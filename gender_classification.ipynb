{
 "cells": [
  {
   "cell_type": "code",
   "execution_count": 1,
   "id": "80faee73",
   "metadata": {
    "_cell_guid": "b1076dfc-b9ad-4769-8c92-a6c4dae69d19",
    "_uuid": "8f2839f25d086af736a60e9eeb907d3b93b6e0e5",
    "execution": {
     "iopub.execute_input": "2022-06-16T04:50:05.886676Z",
     "iopub.status.busy": "2022-06-16T04:50:05.885956Z",
     "iopub.status.idle": "2022-06-16T04:50:11.446201Z",
     "shell.execute_reply": "2022-06-16T04:50:11.444985Z"
    },
    "papermill": {
     "duration": 5.583082,
     "end_time": "2022-06-16T04:50:11.449184",
     "exception": false,
     "start_time": "2022-06-16T04:50:05.866102",
     "status": "completed"
    },
    "tags": []
   },
   "outputs": [],
   "source": [
    "import librosa\n",
    "import librosa.display\n",
    "import IPython.display as ipd\n",
    "\n",
    "import pandas as pd\n",
    "import numpy as np\n",
    "\n",
    "import seaborn as sns\n",
    "import matplotlib.pyplot as plt\n",
    "\n",
    "import os\n",
    "\n",
    "import torch\n",
    "import torchaudio\n",
    "from torchaudio import transforms\n",
    "import torchvision\n",
    "from PIL import Image\n"
   ]
  },
  {
   "cell_type": "code",
   "execution_count": 2,
   "id": "bbfebdb8",
   "metadata": {
    "execution": {
     "iopub.execute_input": "2022-06-16T04:50:11.483245Z",
     "iopub.status.busy": "2022-06-16T04:50:11.482501Z",
     "iopub.status.idle": "2022-06-16T04:50:12.267201Z",
     "shell.execute_reply": "2022-06-16T04:50:12.265942Z"
    },
    "papermill": {
     "duration": 0.804859,
     "end_time": "2022-06-16T04:50:12.270489",
     "exception": false,
     "start_time": "2022-06-16T04:50:11.465630",
     "status": "completed"
    },
    "tags": []
   },
   "outputs": [
    {
     "name": "stdout",
     "output_type": "stream",
     "text": [
      "__notebook__.ipynb\r\n"
     ]
    }
   ],
   "source": [
    "!ls\n"
   ]
  },
  {
   "cell_type": "code",
   "execution_count": 3,
   "id": "4dc53e0e",
   "metadata": {
    "execution": {
     "iopub.execute_input": "2022-06-16T04:50:12.304716Z",
     "iopub.status.busy": "2022-06-16T04:50:12.304278Z",
     "iopub.status.idle": "2022-06-16T04:50:13.124441Z",
     "shell.execute_reply": "2022-06-16T04:50:13.122988Z"
    },
    "papermill": {
     "duration": 0.840672,
     "end_time": "2022-06-16T04:50:13.127374",
     "exception": false,
     "start_time": "2022-06-16T04:50:12.286702",
     "status": "completed"
    },
    "tags": []
   },
   "outputs": [],
   "source": [
    "!mkdir cv-valid-train-2"
   ]
  },
  {
   "cell_type": "code",
   "execution_count": 4,
   "id": "4089c861",
   "metadata": {
    "execution": {
     "iopub.execute_input": "2022-06-16T04:50:13.163607Z",
     "iopub.status.busy": "2022-06-16T04:50:13.162624Z",
     "iopub.status.idle": "2022-06-16T04:50:13.941124Z",
     "shell.execute_reply": "2022-06-16T04:50:13.939793Z"
    },
    "papermill": {
     "duration": 0.798971,
     "end_time": "2022-06-16T04:50:13.943779",
     "exception": false,
     "start_time": "2022-06-16T04:50:13.144808",
     "status": "completed"
    },
    "tags": []
   },
   "outputs": [
    {
     "name": "stdout",
     "output_type": "stream",
     "text": [
      "__notebook__.ipynb  cv-valid-train-2\r\n"
     ]
    }
   ],
   "source": [
    "!ls"
   ]
  },
  {
   "cell_type": "code",
   "execution_count": 5,
   "id": "39950419",
   "metadata": {
    "execution": {
     "iopub.execute_input": "2022-06-16T04:50:13.978399Z",
     "iopub.status.busy": "2022-06-16T04:50:13.977923Z",
     "iopub.status.idle": "2022-06-16T04:50:13.983630Z",
     "shell.execute_reply": "2022-06-16T04:50:13.982491Z"
    },
    "papermill": {
     "duration": 0.025588,
     "end_time": "2022-06-16T04:50:13.985993",
     "exception": false,
     "start_time": "2022-06-16T04:50:13.960405",
     "status": "completed"
    },
    "tags": []
   },
   "outputs": [],
   "source": [
    "import torch\n",
    "import torch.nn as nn\n",
    "import torchvision.models as models\n",
    "\n"
   ]
  },
  {
   "cell_type": "code",
   "execution_count": null,
   "id": "98fc8876",
   "metadata": {
    "papermill": {
     "duration": 0.016148,
     "end_time": "2022-06-16T04:50:14.018134",
     "exception": false,
     "start_time": "2022-06-16T04:50:14.001986",
     "status": "completed"
    },
    "tags": []
   },
   "outputs": [],
   "source": []
  },
  {
   "cell_type": "markdown",
   "id": "61a3d9d2",
   "metadata": {
    "papermill": {
     "duration": 0.015814,
     "end_time": "2022-06-16T04:50:14.050209",
     "exception": false,
     "start_time": "2022-06-16T04:50:14.034395",
     "status": "completed"
    },
    "tags": []
   },
   "source": [
    "# Preprocessing data"
   ]
  },
  {
   "cell_type": "code",
   "execution_count": 6,
   "id": "345a23e1",
   "metadata": {
    "execution": {
     "iopub.execute_input": "2022-06-16T04:50:14.084331Z",
     "iopub.status.busy": "2022-06-16T04:50:14.083859Z",
     "iopub.status.idle": "2022-06-16T04:50:14.719850Z",
     "shell.execute_reply": "2022-06-16T04:50:14.718833Z"
    },
    "papermill": {
     "duration": 0.655959,
     "end_time": "2022-06-16T04:50:14.722154",
     "exception": false,
     "start_time": "2022-06-16T04:50:14.066195",
     "status": "completed"
    },
    "tags": []
   },
   "outputs": [
    {
     "data": {
      "text/plain": [
       "filename      195776\n",
       "text          195776\n",
       "up_votes      195776\n",
       "down_votes    195776\n",
       "age            73768\n",
       "gender         74059\n",
       "accent         64711\n",
       "duration           0\n",
       "dtype: int64"
      ]
     },
     "execution_count": 6,
     "metadata": {},
     "output_type": "execute_result"
    }
   ],
   "source": [
    "dir_path = \"../input/common-voice\"\n",
    "\n",
    "valid_train_df = pd.read_csv(\"../input/common-voice/cv-valid-train.csv\")\n",
    "valid_train_df.head()\n",
    "valid_train_df.count()"
   ]
  },
  {
   "cell_type": "code",
   "execution_count": 7,
   "id": "c7d5dc62",
   "metadata": {
    "execution": {
     "iopub.execute_input": "2022-06-16T04:50:14.755727Z",
     "iopub.status.busy": "2022-06-16T04:50:14.755294Z",
     "iopub.status.idle": "2022-06-16T04:50:14.788446Z",
     "shell.execute_reply": "2022-06-16T04:50:14.787399Z"
    },
    "papermill": {
     "duration": 0.052827,
     "end_time": "2022-06-16T04:50:14.790886",
     "exception": false,
     "start_time": "2022-06-16T04:50:14.738059",
     "status": "completed"
    },
    "tags": []
   },
   "outputs": [],
   "source": [
    "valid_train_filter_df = valid_train_df[valid_train_df[\"gender\"].notnull()]"
   ]
  },
  {
   "cell_type": "code",
   "execution_count": 8,
   "id": "02d33ff9",
   "metadata": {
    "execution": {
     "iopub.execute_input": "2022-06-16T04:50:14.824298Z",
     "iopub.status.busy": "2022-06-16T04:50:14.823840Z",
     "iopub.status.idle": "2022-06-16T04:50:14.848178Z",
     "shell.execute_reply": "2022-06-16T04:50:14.846834Z"
    },
    "papermill": {
     "duration": 0.044064,
     "end_time": "2022-06-16T04:50:14.851069",
     "exception": false,
     "start_time": "2022-06-16T04:50:14.807005",
     "status": "completed"
    },
    "tags": []
   },
   "outputs": [
    {
     "data": {
      "text/html": [
       "<div>\n",
       "<style scoped>\n",
       "    .dataframe tbody tr th:only-of-type {\n",
       "        vertical-align: middle;\n",
       "    }\n",
       "\n",
       "    .dataframe tbody tr th {\n",
       "        vertical-align: top;\n",
       "    }\n",
       "\n",
       "    .dataframe thead th {\n",
       "        text-align: right;\n",
       "    }\n",
       "</style>\n",
       "<table border=\"1\" class=\"dataframe\">\n",
       "  <thead>\n",
       "    <tr style=\"text-align: right;\">\n",
       "      <th></th>\n",
       "      <th>filename</th>\n",
       "      <th>text</th>\n",
       "      <th>up_votes</th>\n",
       "      <th>down_votes</th>\n",
       "      <th>age</th>\n",
       "      <th>gender</th>\n",
       "      <th>accent</th>\n",
       "      <th>duration</th>\n",
       "    </tr>\n",
       "  </thead>\n",
       "  <tbody>\n",
       "    <tr>\n",
       "      <th>5</th>\n",
       "      <td>cv-valid-train/sample-000005.mp3</td>\n",
       "      <td>a shepherd may like to travel but he should ne...</td>\n",
       "      <td>1</td>\n",
       "      <td>0</td>\n",
       "      <td>twenties</td>\n",
       "      <td>female</td>\n",
       "      <td>us</td>\n",
       "      <td>NaN</td>\n",
       "    </tr>\n",
       "    <tr>\n",
       "      <th>8</th>\n",
       "      <td>cv-valid-train/sample-000008.mp3</td>\n",
       "      <td>put jackie right on the staff</td>\n",
       "      <td>3</td>\n",
       "      <td>0</td>\n",
       "      <td>seventies</td>\n",
       "      <td>male</td>\n",
       "      <td>us</td>\n",
       "      <td>NaN</td>\n",
       "    </tr>\n",
       "    <tr>\n",
       "      <th>13</th>\n",
       "      <td>cv-valid-train/sample-000013.mp3</td>\n",
       "      <td>but he had found a guide and didn't want to mi...</td>\n",
       "      <td>1</td>\n",
       "      <td>0</td>\n",
       "      <td>thirties</td>\n",
       "      <td>female</td>\n",
       "      <td>us</td>\n",
       "      <td>NaN</td>\n",
       "    </tr>\n",
       "    <tr>\n",
       "      <th>14</th>\n",
       "      <td>cv-valid-train/sample-000014.mp3</td>\n",
       "      <td>as they began to decorate the hallway a silhou...</td>\n",
       "      <td>1</td>\n",
       "      <td>0</td>\n",
       "      <td>sixties</td>\n",
       "      <td>male</td>\n",
       "      <td>england</td>\n",
       "      <td>NaN</td>\n",
       "    </tr>\n",
       "    <tr>\n",
       "      <th>19</th>\n",
       "      <td>cv-valid-train/sample-000019.mp3</td>\n",
       "      <td>then they got ahold of some dough and went goofy</td>\n",
       "      <td>1</td>\n",
       "      <td>0</td>\n",
       "      <td>fifties</td>\n",
       "      <td>male</td>\n",
       "      <td>australia</td>\n",
       "      <td>NaN</td>\n",
       "    </tr>\n",
       "    <tr>\n",
       "      <th>20</th>\n",
       "      <td>cv-valid-train/sample-000020.mp3</td>\n",
       "      <td>it was faintly marked with transverse stripes ...</td>\n",
       "      <td>5</td>\n",
       "      <td>1</td>\n",
       "      <td>thirties</td>\n",
       "      <td>male</td>\n",
       "      <td>england</td>\n",
       "      <td>NaN</td>\n",
       "    </tr>\n",
       "    <tr>\n",
       "      <th>23</th>\n",
       "      <td>cv-valid-train/sample-000023.mp3</td>\n",
       "      <td>i had seen all that it would presently bring me</td>\n",
       "      <td>5</td>\n",
       "      <td>0</td>\n",
       "      <td>thirties</td>\n",
       "      <td>male</td>\n",
       "      <td>us</td>\n",
       "      <td>NaN</td>\n",
       "    </tr>\n",
       "    <tr>\n",
       "      <th>26</th>\n",
       "      <td>cv-valid-train/sample-000026.mp3</td>\n",
       "      <td>two years ago right here on this spot i had a ...</td>\n",
       "      <td>4</td>\n",
       "      <td>0</td>\n",
       "      <td>twenties</td>\n",
       "      <td>female</td>\n",
       "      <td>australia</td>\n",
       "      <td>NaN</td>\n",
       "    </tr>\n",
       "    <tr>\n",
       "      <th>27</th>\n",
       "      <td>cv-valid-train/sample-000027.mp3</td>\n",
       "      <td>don't let them see that you're afraid the alch...</td>\n",
       "      <td>3</td>\n",
       "      <td>0</td>\n",
       "      <td>twenties</td>\n",
       "      <td>male</td>\n",
       "      <td>australia</td>\n",
       "      <td>NaN</td>\n",
       "    </tr>\n",
       "    <tr>\n",
       "      <th>29</th>\n",
       "      <td>cv-valid-train/sample-000029.mp3</td>\n",
       "      <td>the fire alarm went off again but when i looke...</td>\n",
       "      <td>1</td>\n",
       "      <td>0</td>\n",
       "      <td>thirties</td>\n",
       "      <td>male</td>\n",
       "      <td>indian</td>\n",
       "      <td>NaN</td>\n",
       "    </tr>\n",
       "    <tr>\n",
       "      <th>34</th>\n",
       "      <td>cv-valid-train/sample-000034.mp3</td>\n",
       "      <td>i have had the same dream twice he said</td>\n",
       "      <td>1</td>\n",
       "      <td>0</td>\n",
       "      <td>fourties</td>\n",
       "      <td>female</td>\n",
       "      <td>us</td>\n",
       "      <td>NaN</td>\n",
       "    </tr>\n",
       "    <tr>\n",
       "      <th>36</th>\n",
       "      <td>cv-valid-train/sample-000036.mp3</td>\n",
       "      <td>ask the owner of that stall how much the sword...</td>\n",
       "      <td>2</td>\n",
       "      <td>1</td>\n",
       "      <td>twenties</td>\n",
       "      <td>male</td>\n",
       "      <td>australia</td>\n",
       "      <td>NaN</td>\n",
       "    </tr>\n",
       "    <tr>\n",
       "      <th>39</th>\n",
       "      <td>cv-valid-train/sample-000039.mp3</td>\n",
       "      <td>a large piece suddenly came off and fell with ...</td>\n",
       "      <td>3</td>\n",
       "      <td>1</td>\n",
       "      <td>teens</td>\n",
       "      <td>female</td>\n",
       "      <td>canada</td>\n",
       "      <td>NaN</td>\n",
       "    </tr>\n",
       "    <tr>\n",
       "      <th>43</th>\n",
       "      <td>cv-valid-train/sample-000043.mp3</td>\n",
       "      <td>separation of garbage makes recycling possible</td>\n",
       "      <td>1</td>\n",
       "      <td>0</td>\n",
       "      <td>twenties</td>\n",
       "      <td>male</td>\n",
       "      <td>NaN</td>\n",
       "      <td>NaN</td>\n",
       "    </tr>\n",
       "    <tr>\n",
       "      <th>44</th>\n",
       "      <td>cv-valid-train/sample-000044.mp3</td>\n",
       "      <td>they were people of the desert and clamored to...</td>\n",
       "      <td>2</td>\n",
       "      <td>0</td>\n",
       "      <td>thirties</td>\n",
       "      <td>male</td>\n",
       "      <td>england</td>\n",
       "      <td>NaN</td>\n",
       "    </tr>\n",
       "    <tr>\n",
       "      <th>47</th>\n",
       "      <td>cv-valid-train/sample-000047.mp3</td>\n",
       "      <td>most of them were staring quietly at the big t...</td>\n",
       "      <td>3</td>\n",
       "      <td>0</td>\n",
       "      <td>sixties</td>\n",
       "      <td>male</td>\n",
       "      <td>us</td>\n",
       "      <td>NaN</td>\n",
       "    </tr>\n",
       "    <tr>\n",
       "      <th>49</th>\n",
       "      <td>cv-valid-train/sample-000049.mp3</td>\n",
       "      <td>so how will we name all these hurricanes</td>\n",
       "      <td>2</td>\n",
       "      <td>1</td>\n",
       "      <td>fourties</td>\n",
       "      <td>male</td>\n",
       "      <td>australia</td>\n",
       "      <td>NaN</td>\n",
       "    </tr>\n",
       "    <tr>\n",
       "      <th>50</th>\n",
       "      <td>cv-valid-train/sample-000050.mp3</td>\n",
       "      <td>just the ant colony of the neighborhood</td>\n",
       "      <td>1</td>\n",
       "      <td>0</td>\n",
       "      <td>twenties</td>\n",
       "      <td>male</td>\n",
       "      <td>NaN</td>\n",
       "      <td>NaN</td>\n",
       "    </tr>\n",
       "    <tr>\n",
       "      <th>51</th>\n",
       "      <td>cv-valid-train/sample-000051.mp3</td>\n",
       "      <td>so the boy was disappointed he decided that he...</td>\n",
       "      <td>2</td>\n",
       "      <td>0</td>\n",
       "      <td>thirties</td>\n",
       "      <td>female</td>\n",
       "      <td>us</td>\n",
       "      <td>NaN</td>\n",
       "    </tr>\n",
       "    <tr>\n",
       "      <th>53</th>\n",
       "      <td>cv-valid-train/sample-000053.mp3</td>\n",
       "      <td>don't you know that girl's very sick</td>\n",
       "      <td>2</td>\n",
       "      <td>0</td>\n",
       "      <td>fourties</td>\n",
       "      <td>male</td>\n",
       "      <td>england</td>\n",
       "      <td>NaN</td>\n",
       "    </tr>\n",
       "  </tbody>\n",
       "</table>\n",
       "</div>"
      ],
      "text/plain": [
       "                            filename  \\\n",
       "5   cv-valid-train/sample-000005.mp3   \n",
       "8   cv-valid-train/sample-000008.mp3   \n",
       "13  cv-valid-train/sample-000013.mp3   \n",
       "14  cv-valid-train/sample-000014.mp3   \n",
       "19  cv-valid-train/sample-000019.mp3   \n",
       "20  cv-valid-train/sample-000020.mp3   \n",
       "23  cv-valid-train/sample-000023.mp3   \n",
       "26  cv-valid-train/sample-000026.mp3   \n",
       "27  cv-valid-train/sample-000027.mp3   \n",
       "29  cv-valid-train/sample-000029.mp3   \n",
       "34  cv-valid-train/sample-000034.mp3   \n",
       "36  cv-valid-train/sample-000036.mp3   \n",
       "39  cv-valid-train/sample-000039.mp3   \n",
       "43  cv-valid-train/sample-000043.mp3   \n",
       "44  cv-valid-train/sample-000044.mp3   \n",
       "47  cv-valid-train/sample-000047.mp3   \n",
       "49  cv-valid-train/sample-000049.mp3   \n",
       "50  cv-valid-train/sample-000050.mp3   \n",
       "51  cv-valid-train/sample-000051.mp3   \n",
       "53  cv-valid-train/sample-000053.mp3   \n",
       "\n",
       "                                                 text  up_votes  down_votes  \\\n",
       "5   a shepherd may like to travel but he should ne...         1           0   \n",
       "8                       put jackie right on the staff         3           0   \n",
       "13  but he had found a guide and didn't want to mi...         1           0   \n",
       "14  as they began to decorate the hallway a silhou...         1           0   \n",
       "19   then they got ahold of some dough and went goofy         1           0   \n",
       "20  it was faintly marked with transverse stripes ...         5           1   \n",
       "23    i had seen all that it would presently bring me         5           0   \n",
       "26  two years ago right here on this spot i had a ...         4           0   \n",
       "27  don't let them see that you're afraid the alch...         3           0   \n",
       "29  the fire alarm went off again but when i looke...         1           0   \n",
       "34            i have had the same dream twice he said         1           0   \n",
       "36  ask the owner of that stall how much the sword...         2           1   \n",
       "39  a large piece suddenly came off and fell with ...         3           1   \n",
       "43     separation of garbage makes recycling possible         1           0   \n",
       "44  they were people of the desert and clamored to...         2           0   \n",
       "47  most of them were staring quietly at the big t...         3           0   \n",
       "49           so how will we name all these hurricanes         2           1   \n",
       "50            just the ant colony of the neighborhood         1           0   \n",
       "51  so the boy was disappointed he decided that he...         2           0   \n",
       "53               don't you know that girl's very sick         2           0   \n",
       "\n",
       "          age  gender     accent  duration  \n",
       "5    twenties  female         us       NaN  \n",
       "8   seventies    male         us       NaN  \n",
       "13   thirties  female         us       NaN  \n",
       "14    sixties    male    england       NaN  \n",
       "19    fifties    male  australia       NaN  \n",
       "20   thirties    male    england       NaN  \n",
       "23   thirties    male         us       NaN  \n",
       "26   twenties  female  australia       NaN  \n",
       "27   twenties    male  australia       NaN  \n",
       "29   thirties    male     indian       NaN  \n",
       "34   fourties  female         us       NaN  \n",
       "36   twenties    male  australia       NaN  \n",
       "39      teens  female     canada       NaN  \n",
       "43   twenties    male        NaN       NaN  \n",
       "44   thirties    male    england       NaN  \n",
       "47    sixties    male         us       NaN  \n",
       "49   fourties    male  australia       NaN  \n",
       "50   twenties    male        NaN       NaN  \n",
       "51   thirties  female         us       NaN  \n",
       "53   fourties    male    england       NaN  "
      ]
     },
     "execution_count": 8,
     "metadata": {},
     "output_type": "execute_result"
    }
   ],
   "source": [
    "valid_train_filter_df.head(20)"
   ]
  },
  {
   "cell_type": "code",
   "execution_count": 9,
   "id": "bea71973",
   "metadata": {
    "execution": {
     "iopub.execute_input": "2022-06-16T04:50:14.893430Z",
     "iopub.status.busy": "2022-06-16T04:50:14.891371Z",
     "iopub.status.idle": "2022-06-16T04:50:14.943225Z",
     "shell.execute_reply": "2022-06-16T04:50:14.941934Z"
    },
    "papermill": {
     "duration": 0.076041,
     "end_time": "2022-06-16T04:50:14.946090",
     "exception": false,
     "start_time": "2022-06-16T04:50:14.870049",
     "status": "completed"
    },
    "tags": []
   },
   "outputs": [
    {
     "data": {
      "text/plain": [
       "filename      74059\n",
       "text          74059\n",
       "up_votes      74059\n",
       "down_votes    74059\n",
       "age           73466\n",
       "gender        74059\n",
       "accent        63756\n",
       "duration          0\n",
       "dtype: int64"
      ]
     },
     "execution_count": 9,
     "metadata": {},
     "output_type": "execute_result"
    }
   ],
   "source": [
    "valid_train_filter_df.count()"
   ]
  },
  {
   "cell_type": "code",
   "execution_count": 10,
   "id": "13dbd3bb",
   "metadata": {
    "execution": {
     "iopub.execute_input": "2022-06-16T04:50:14.986721Z",
     "iopub.status.busy": "2022-06-16T04:50:14.986305Z",
     "iopub.status.idle": "2022-06-16T04:50:15.058354Z",
     "shell.execute_reply": "2022-06-16T04:50:15.057225Z"
    },
    "papermill": {
     "duration": 0.095531,
     "end_time": "2022-06-16T04:50:15.061373",
     "exception": false,
     "start_time": "2022-06-16T04:50:14.965842",
     "status": "completed"
    },
    "tags": []
   },
   "outputs": [
    {
     "name": "stderr",
     "output_type": "stream",
     "text": [
      "/opt/conda/lib/python3.7/site-packages/ipykernel_launcher.py:5: SettingWithCopyWarning: \n",
      "A value is trying to be set on a copy of a slice from a DataFrame.\n",
      "Try using .loc[row_indexer,col_indexer] = value instead\n",
      "\n",
      "See the caveats in the documentation: https://pandas.pydata.org/pandas-docs/stable/user_guide/indexing.html#returning-a-view-versus-a-copy\n",
      "  \"\"\"\n"
     ]
    }
   ],
   "source": [
    "def convert_gender_to_labels(gender):\n",
    "    return 0 if gender == \"female\" else 1\n",
    "\n",
    "\n",
    "valid_train_filter_df[\"target_gender\"] = valid_train_filter_df['gender'].apply(lambda gender: 0 if str(gender) == \"female\" else 1)"
   ]
  },
  {
   "cell_type": "code",
   "execution_count": 11,
   "id": "cbb95d04",
   "metadata": {
    "execution": {
     "iopub.execute_input": "2022-06-16T04:50:15.098212Z",
     "iopub.status.busy": "2022-06-16T04:50:15.097244Z",
     "iopub.status.idle": "2022-06-16T04:50:15.117866Z",
     "shell.execute_reply": "2022-06-16T04:50:15.116552Z"
    },
    "papermill": {
     "duration": 0.043417,
     "end_time": "2022-06-16T04:50:15.122004",
     "exception": false,
     "start_time": "2022-06-16T04:50:15.078587",
     "status": "completed"
    },
    "tags": []
   },
   "outputs": [
    {
     "data": {
      "text/html": [
       "<div>\n",
       "<style scoped>\n",
       "    .dataframe tbody tr th:only-of-type {\n",
       "        vertical-align: middle;\n",
       "    }\n",
       "\n",
       "    .dataframe tbody tr th {\n",
       "        vertical-align: top;\n",
       "    }\n",
       "\n",
       "    .dataframe thead th {\n",
       "        text-align: right;\n",
       "    }\n",
       "</style>\n",
       "<table border=\"1\" class=\"dataframe\">\n",
       "  <thead>\n",
       "    <tr style=\"text-align: right;\">\n",
       "      <th></th>\n",
       "      <th>filename</th>\n",
       "      <th>text</th>\n",
       "      <th>up_votes</th>\n",
       "      <th>down_votes</th>\n",
       "      <th>age</th>\n",
       "      <th>gender</th>\n",
       "      <th>accent</th>\n",
       "      <th>duration</th>\n",
       "      <th>target_gender</th>\n",
       "    </tr>\n",
       "  </thead>\n",
       "  <tbody>\n",
       "    <tr>\n",
       "      <th>5</th>\n",
       "      <td>cv-valid-train/sample-000005.mp3</td>\n",
       "      <td>a shepherd may like to travel but he should ne...</td>\n",
       "      <td>1</td>\n",
       "      <td>0</td>\n",
       "      <td>twenties</td>\n",
       "      <td>female</td>\n",
       "      <td>us</td>\n",
       "      <td>NaN</td>\n",
       "      <td>0</td>\n",
       "    </tr>\n",
       "    <tr>\n",
       "      <th>8</th>\n",
       "      <td>cv-valid-train/sample-000008.mp3</td>\n",
       "      <td>put jackie right on the staff</td>\n",
       "      <td>3</td>\n",
       "      <td>0</td>\n",
       "      <td>seventies</td>\n",
       "      <td>male</td>\n",
       "      <td>us</td>\n",
       "      <td>NaN</td>\n",
       "      <td>1</td>\n",
       "    </tr>\n",
       "    <tr>\n",
       "      <th>13</th>\n",
       "      <td>cv-valid-train/sample-000013.mp3</td>\n",
       "      <td>but he had found a guide and didn't want to mi...</td>\n",
       "      <td>1</td>\n",
       "      <td>0</td>\n",
       "      <td>thirties</td>\n",
       "      <td>female</td>\n",
       "      <td>us</td>\n",
       "      <td>NaN</td>\n",
       "      <td>0</td>\n",
       "    </tr>\n",
       "    <tr>\n",
       "      <th>14</th>\n",
       "      <td>cv-valid-train/sample-000014.mp3</td>\n",
       "      <td>as they began to decorate the hallway a silhou...</td>\n",
       "      <td>1</td>\n",
       "      <td>0</td>\n",
       "      <td>sixties</td>\n",
       "      <td>male</td>\n",
       "      <td>england</td>\n",
       "      <td>NaN</td>\n",
       "      <td>1</td>\n",
       "    </tr>\n",
       "    <tr>\n",
       "      <th>19</th>\n",
       "      <td>cv-valid-train/sample-000019.mp3</td>\n",
       "      <td>then they got ahold of some dough and went goofy</td>\n",
       "      <td>1</td>\n",
       "      <td>0</td>\n",
       "      <td>fifties</td>\n",
       "      <td>male</td>\n",
       "      <td>australia</td>\n",
       "      <td>NaN</td>\n",
       "      <td>1</td>\n",
       "    </tr>\n",
       "    <tr>\n",
       "      <th>20</th>\n",
       "      <td>cv-valid-train/sample-000020.mp3</td>\n",
       "      <td>it was faintly marked with transverse stripes ...</td>\n",
       "      <td>5</td>\n",
       "      <td>1</td>\n",
       "      <td>thirties</td>\n",
       "      <td>male</td>\n",
       "      <td>england</td>\n",
       "      <td>NaN</td>\n",
       "      <td>1</td>\n",
       "    </tr>\n",
       "    <tr>\n",
       "      <th>23</th>\n",
       "      <td>cv-valid-train/sample-000023.mp3</td>\n",
       "      <td>i had seen all that it would presently bring me</td>\n",
       "      <td>5</td>\n",
       "      <td>0</td>\n",
       "      <td>thirties</td>\n",
       "      <td>male</td>\n",
       "      <td>us</td>\n",
       "      <td>NaN</td>\n",
       "      <td>1</td>\n",
       "    </tr>\n",
       "    <tr>\n",
       "      <th>26</th>\n",
       "      <td>cv-valid-train/sample-000026.mp3</td>\n",
       "      <td>two years ago right here on this spot i had a ...</td>\n",
       "      <td>4</td>\n",
       "      <td>0</td>\n",
       "      <td>twenties</td>\n",
       "      <td>female</td>\n",
       "      <td>australia</td>\n",
       "      <td>NaN</td>\n",
       "      <td>0</td>\n",
       "    </tr>\n",
       "    <tr>\n",
       "      <th>27</th>\n",
       "      <td>cv-valid-train/sample-000027.mp3</td>\n",
       "      <td>don't let them see that you're afraid the alch...</td>\n",
       "      <td>3</td>\n",
       "      <td>0</td>\n",
       "      <td>twenties</td>\n",
       "      <td>male</td>\n",
       "      <td>australia</td>\n",
       "      <td>NaN</td>\n",
       "      <td>1</td>\n",
       "    </tr>\n",
       "    <tr>\n",
       "      <th>29</th>\n",
       "      <td>cv-valid-train/sample-000029.mp3</td>\n",
       "      <td>the fire alarm went off again but when i looke...</td>\n",
       "      <td>1</td>\n",
       "      <td>0</td>\n",
       "      <td>thirties</td>\n",
       "      <td>male</td>\n",
       "      <td>indian</td>\n",
       "      <td>NaN</td>\n",
       "      <td>1</td>\n",
       "    </tr>\n",
       "    <tr>\n",
       "      <th>34</th>\n",
       "      <td>cv-valid-train/sample-000034.mp3</td>\n",
       "      <td>i have had the same dream twice he said</td>\n",
       "      <td>1</td>\n",
       "      <td>0</td>\n",
       "      <td>fourties</td>\n",
       "      <td>female</td>\n",
       "      <td>us</td>\n",
       "      <td>NaN</td>\n",
       "      <td>0</td>\n",
       "    </tr>\n",
       "    <tr>\n",
       "      <th>36</th>\n",
       "      <td>cv-valid-train/sample-000036.mp3</td>\n",
       "      <td>ask the owner of that stall how much the sword...</td>\n",
       "      <td>2</td>\n",
       "      <td>1</td>\n",
       "      <td>twenties</td>\n",
       "      <td>male</td>\n",
       "      <td>australia</td>\n",
       "      <td>NaN</td>\n",
       "      <td>1</td>\n",
       "    </tr>\n",
       "    <tr>\n",
       "      <th>39</th>\n",
       "      <td>cv-valid-train/sample-000039.mp3</td>\n",
       "      <td>a large piece suddenly came off and fell with ...</td>\n",
       "      <td>3</td>\n",
       "      <td>1</td>\n",
       "      <td>teens</td>\n",
       "      <td>female</td>\n",
       "      <td>canada</td>\n",
       "      <td>NaN</td>\n",
       "      <td>0</td>\n",
       "    </tr>\n",
       "    <tr>\n",
       "      <th>43</th>\n",
       "      <td>cv-valid-train/sample-000043.mp3</td>\n",
       "      <td>separation of garbage makes recycling possible</td>\n",
       "      <td>1</td>\n",
       "      <td>0</td>\n",
       "      <td>twenties</td>\n",
       "      <td>male</td>\n",
       "      <td>NaN</td>\n",
       "      <td>NaN</td>\n",
       "      <td>1</td>\n",
       "    </tr>\n",
       "    <tr>\n",
       "      <th>44</th>\n",
       "      <td>cv-valid-train/sample-000044.mp3</td>\n",
       "      <td>they were people of the desert and clamored to...</td>\n",
       "      <td>2</td>\n",
       "      <td>0</td>\n",
       "      <td>thirties</td>\n",
       "      <td>male</td>\n",
       "      <td>england</td>\n",
       "      <td>NaN</td>\n",
       "      <td>1</td>\n",
       "    </tr>\n",
       "    <tr>\n",
       "      <th>47</th>\n",
       "      <td>cv-valid-train/sample-000047.mp3</td>\n",
       "      <td>most of them were staring quietly at the big t...</td>\n",
       "      <td>3</td>\n",
       "      <td>0</td>\n",
       "      <td>sixties</td>\n",
       "      <td>male</td>\n",
       "      <td>us</td>\n",
       "      <td>NaN</td>\n",
       "      <td>1</td>\n",
       "    </tr>\n",
       "    <tr>\n",
       "      <th>49</th>\n",
       "      <td>cv-valid-train/sample-000049.mp3</td>\n",
       "      <td>so how will we name all these hurricanes</td>\n",
       "      <td>2</td>\n",
       "      <td>1</td>\n",
       "      <td>fourties</td>\n",
       "      <td>male</td>\n",
       "      <td>australia</td>\n",
       "      <td>NaN</td>\n",
       "      <td>1</td>\n",
       "    </tr>\n",
       "    <tr>\n",
       "      <th>50</th>\n",
       "      <td>cv-valid-train/sample-000050.mp3</td>\n",
       "      <td>just the ant colony of the neighborhood</td>\n",
       "      <td>1</td>\n",
       "      <td>0</td>\n",
       "      <td>twenties</td>\n",
       "      <td>male</td>\n",
       "      <td>NaN</td>\n",
       "      <td>NaN</td>\n",
       "      <td>1</td>\n",
       "    </tr>\n",
       "    <tr>\n",
       "      <th>51</th>\n",
       "      <td>cv-valid-train/sample-000051.mp3</td>\n",
       "      <td>so the boy was disappointed he decided that he...</td>\n",
       "      <td>2</td>\n",
       "      <td>0</td>\n",
       "      <td>thirties</td>\n",
       "      <td>female</td>\n",
       "      <td>us</td>\n",
       "      <td>NaN</td>\n",
       "      <td>0</td>\n",
       "    </tr>\n",
       "    <tr>\n",
       "      <th>53</th>\n",
       "      <td>cv-valid-train/sample-000053.mp3</td>\n",
       "      <td>don't you know that girl's very sick</td>\n",
       "      <td>2</td>\n",
       "      <td>0</td>\n",
       "      <td>fourties</td>\n",
       "      <td>male</td>\n",
       "      <td>england</td>\n",
       "      <td>NaN</td>\n",
       "      <td>1</td>\n",
       "    </tr>\n",
       "  </tbody>\n",
       "</table>\n",
       "</div>"
      ],
      "text/plain": [
       "                            filename  \\\n",
       "5   cv-valid-train/sample-000005.mp3   \n",
       "8   cv-valid-train/sample-000008.mp3   \n",
       "13  cv-valid-train/sample-000013.mp3   \n",
       "14  cv-valid-train/sample-000014.mp3   \n",
       "19  cv-valid-train/sample-000019.mp3   \n",
       "20  cv-valid-train/sample-000020.mp3   \n",
       "23  cv-valid-train/sample-000023.mp3   \n",
       "26  cv-valid-train/sample-000026.mp3   \n",
       "27  cv-valid-train/sample-000027.mp3   \n",
       "29  cv-valid-train/sample-000029.mp3   \n",
       "34  cv-valid-train/sample-000034.mp3   \n",
       "36  cv-valid-train/sample-000036.mp3   \n",
       "39  cv-valid-train/sample-000039.mp3   \n",
       "43  cv-valid-train/sample-000043.mp3   \n",
       "44  cv-valid-train/sample-000044.mp3   \n",
       "47  cv-valid-train/sample-000047.mp3   \n",
       "49  cv-valid-train/sample-000049.mp3   \n",
       "50  cv-valid-train/sample-000050.mp3   \n",
       "51  cv-valid-train/sample-000051.mp3   \n",
       "53  cv-valid-train/sample-000053.mp3   \n",
       "\n",
       "                                                 text  up_votes  down_votes  \\\n",
       "5   a shepherd may like to travel but he should ne...         1           0   \n",
       "8                       put jackie right on the staff         3           0   \n",
       "13  but he had found a guide and didn't want to mi...         1           0   \n",
       "14  as they began to decorate the hallway a silhou...         1           0   \n",
       "19   then they got ahold of some dough and went goofy         1           0   \n",
       "20  it was faintly marked with transverse stripes ...         5           1   \n",
       "23    i had seen all that it would presently bring me         5           0   \n",
       "26  two years ago right here on this spot i had a ...         4           0   \n",
       "27  don't let them see that you're afraid the alch...         3           0   \n",
       "29  the fire alarm went off again but when i looke...         1           0   \n",
       "34            i have had the same dream twice he said         1           0   \n",
       "36  ask the owner of that stall how much the sword...         2           1   \n",
       "39  a large piece suddenly came off and fell with ...         3           1   \n",
       "43     separation of garbage makes recycling possible         1           0   \n",
       "44  they were people of the desert and clamored to...         2           0   \n",
       "47  most of them were staring quietly at the big t...         3           0   \n",
       "49           so how will we name all these hurricanes         2           1   \n",
       "50            just the ant colony of the neighborhood         1           0   \n",
       "51  so the boy was disappointed he decided that he...         2           0   \n",
       "53               don't you know that girl's very sick         2           0   \n",
       "\n",
       "          age  gender     accent  duration  target_gender  \n",
       "5    twenties  female         us       NaN              0  \n",
       "8   seventies    male         us       NaN              1  \n",
       "13   thirties  female         us       NaN              0  \n",
       "14    sixties    male    england       NaN              1  \n",
       "19    fifties    male  australia       NaN              1  \n",
       "20   thirties    male    england       NaN              1  \n",
       "23   thirties    male         us       NaN              1  \n",
       "26   twenties  female  australia       NaN              0  \n",
       "27   twenties    male  australia       NaN              1  \n",
       "29   thirties    male     indian       NaN              1  \n",
       "34   fourties  female         us       NaN              0  \n",
       "36   twenties    male  australia       NaN              1  \n",
       "39      teens  female     canada       NaN              0  \n",
       "43   twenties    male        NaN       NaN              1  \n",
       "44   thirties    male    england       NaN              1  \n",
       "47    sixties    male         us       NaN              1  \n",
       "49   fourties    male  australia       NaN              1  \n",
       "50   twenties    male        NaN       NaN              1  \n",
       "51   thirties  female         us       NaN              0  \n",
       "53   fourties    male    england       NaN              1  "
      ]
     },
     "execution_count": 11,
     "metadata": {},
     "output_type": "execute_result"
    }
   ],
   "source": [
    "valid_train_filter_df.head(20)"
   ]
  },
  {
   "cell_type": "code",
   "execution_count": 12,
   "id": "0cbccd50",
   "metadata": {
    "execution": {
     "iopub.execute_input": "2022-06-16T04:50:15.159622Z",
     "iopub.status.busy": "2022-06-16T04:50:15.159220Z",
     "iopub.status.idle": "2022-06-16T04:50:15.648918Z",
     "shell.execute_reply": "2022-06-16T04:50:15.647844Z"
    },
    "papermill": {
     "duration": 0.510696,
     "end_time": "2022-06-16T04:50:15.651178",
     "exception": false,
     "start_time": "2022-06-16T04:50:15.140482",
     "status": "completed"
    },
    "tags": []
   },
   "outputs": [
    {
     "data": {
      "image/png": "[encoded data removed]",
      "text/plain": [
       "<Figure size 432x288 with 2 Axes>"
      ]
     },
     "metadata": {
      "needs_background": "light"
     },
     "output_type": "display_data"
    }
   ],
   "source": [
    "plt.subplot(1, 2, 1)\n",
    "valid_train_filter_df.groupby('target_gender')['filename'].count().plot.bar()\n",
    "plt.grid(True)\n",
    "plt.title('Gender Count')\n",
    "plt.subplots_adjust(right=1.9)\n",
    "\n",
    "# Biểu đồ phân phối các câu hỏi \n",
    "plt.subplot(1, 2, 2)\n",
    "values = [valid_train_filter_df[valid_train_filter_df['target_gender']==0].shape[0], valid_train_filter_df[valid_train_filter_df['target_gender']==1].shape[0]]\n",
    "labels = ['Female', 'Male']\n",
    "\n",
    "plt.pie(values, labels=labels, autopct='%1.1f%%', shadow=True)\n",
    "plt.title('Gender Distribution')\n",
    "plt.tight_layout()\n",
    "plt.subplots_adjust(right=1.9)\n",
    "\n",
    "plt.show()\n"
   ]
  },
  {
   "cell_type": "code",
   "execution_count": 13,
   "id": "0c5c565a",
   "metadata": {
    "execution": {
     "iopub.execute_input": "2022-06-16T04:50:15.689293Z",
     "iopub.status.busy": "2022-06-16T04:50:15.688475Z",
     "iopub.status.idle": "2022-06-16T04:50:15.708063Z",
     "shell.execute_reply": "2022-06-16T04:50:15.706992Z"
    },
    "papermill": {
     "duration": 0.040913,
     "end_time": "2022-06-16T04:50:15.710543",
     "exception": false,
     "start_time": "2022-06-16T04:50:15.669630",
     "status": "completed"
    },
    "tags": []
   },
   "outputs": [],
   "source": [
    "female_df = valid_train_filter_df[valid_train_filter_df[\"gender\"] == \"female\"]\n"
   ]
  },
  {
   "cell_type": "code",
   "execution_count": 14,
   "id": "89cbb88f",
   "metadata": {
    "execution": {
     "iopub.execute_input": "2022-06-16T04:50:15.748716Z",
     "iopub.status.busy": "2022-06-16T04:50:15.748302Z",
     "iopub.status.idle": "2022-06-16T04:50:15.754132Z",
     "shell.execute_reply": "2022-06-16T04:50:15.752970Z"
    },
    "papermill": {
     "duration": 0.02709,
     "end_time": "2022-06-16T04:50:15.756332",
     "exception": false,
     "start_time": "2022-06-16T04:50:15.729242",
     "status": "completed"
    },
    "tags": []
   },
   "outputs": [],
   "source": [
    "female_df = female_df.head(5000)"
   ]
  },
  {
   "cell_type": "code",
   "execution_count": 15,
   "id": "629adcb5",
   "metadata": {
    "execution": {
     "iopub.execute_input": "2022-06-16T04:50:15.794681Z",
     "iopub.status.busy": "2022-06-16T04:50:15.793708Z",
     "iopub.status.idle": "2022-06-16T04:50:15.810035Z",
     "shell.execute_reply": "2022-06-16T04:50:15.808969Z"
    },
    "papermill": {
     "duration": 0.038127,
     "end_time": "2022-06-16T04:50:15.812251",
     "exception": false,
     "start_time": "2022-06-16T04:50:15.774124",
     "status": "completed"
    },
    "tags": []
   },
   "outputs": [
    {
     "data": {
      "text/plain": [
       "filename         5000\n",
       "text             5000\n",
       "up_votes         5000\n",
       "down_votes       5000\n",
       "age              4963\n",
       "gender           5000\n",
       "accent           4515\n",
       "duration            0\n",
       "target_gender    5000\n",
       "dtype: int64"
      ]
     },
     "execution_count": 15,
     "metadata": {},
     "output_type": "execute_result"
    }
   ],
   "source": [
    "female_df.count()"
   ]
  },
  {
   "cell_type": "code",
   "execution_count": 16,
   "id": "958af62d",
   "metadata": {
    "execution": {
     "iopub.execute_input": "2022-06-16T04:50:15.850464Z",
     "iopub.status.busy": "2022-06-16T04:50:15.849546Z",
     "iopub.status.idle": "2022-06-16T04:50:15.873701Z",
     "shell.execute_reply": "2022-06-16T04:50:15.872461Z"
    },
    "papermill": {
     "duration": 0.055843,
     "end_time": "2022-06-16T04:50:15.886343",
     "exception": false,
     "start_time": "2022-06-16T04:50:15.830500",
     "status": "completed"
    },
    "tags": []
   },
   "outputs": [],
   "source": [
    "male_df = valid_train_filter_df[valid_train_filter_df[\"gender\"] == \"male\"]\n",
    "male_df = male_df.head(5000)"
   ]
  },
  {
   "cell_type": "code",
   "execution_count": 17,
   "id": "8d1dd191",
   "metadata": {
    "execution": {
     "iopub.execute_input": "2022-06-16T04:50:15.960588Z",
     "iopub.status.busy": "2022-06-16T04:50:15.959048Z",
     "iopub.status.idle": "2022-06-16T04:50:15.990282Z",
     "shell.execute_reply": "2022-06-16T04:50:15.988415Z"
    },
    "papermill": {
     "duration": 0.073324,
     "end_time": "2022-06-16T04:50:15.993317",
     "exception": false,
     "start_time": "2022-06-16T04:50:15.919993",
     "status": "completed"
    },
    "tags": []
   },
   "outputs": [
    {
     "data": {
      "text/plain": [
       "filename         5000\n",
       "text             5000\n",
       "up_votes         5000\n",
       "down_votes       5000\n",
       "age              4971\n",
       "gender           5000\n",
       "accent           4249\n",
       "duration            0\n",
       "target_gender    5000\n",
       "dtype: int64"
      ]
     },
     "execution_count": 17,
     "metadata": {},
     "output_type": "execute_result"
    }
   ],
   "source": [
    "male_df.count()"
   ]
  },
  {
   "cell_type": "code",
   "execution_count": 18,
   "id": "2b112705",
   "metadata": {
    "execution": {
     "iopub.execute_input": "2022-06-16T04:50:16.072885Z",
     "iopub.status.busy": "2022-06-16T04:50:16.072292Z",
     "iopub.status.idle": "2022-06-16T04:50:16.091075Z",
     "shell.execute_reply": "2022-06-16T04:50:16.089202Z"
    },
    "papermill": {
     "duration": 0.068549,
     "end_time": "2022-06-16T04:50:16.095211",
     "exception": false,
     "start_time": "2022-06-16T04:50:16.026662",
     "status": "completed"
    },
    "tags": []
   },
   "outputs": [],
   "source": [
    "pd_total = [male_df, female_df]\n",
    "pd_result = pd.concat(pd_total)"
   ]
  },
  {
   "cell_type": "code",
   "execution_count": 19,
   "id": "5dad5e44",
   "metadata": {
    "execution": {
     "iopub.execute_input": "2022-06-16T04:50:16.161786Z",
     "iopub.status.busy": "2022-06-16T04:50:16.161115Z",
     "iopub.status.idle": "2022-06-16T04:50:16.187558Z",
     "shell.execute_reply": "2022-06-16T04:50:16.186441Z"
    },
    "papermill": {
     "duration": 0.06198,
     "end_time": "2022-06-16T04:50:16.190673",
     "exception": false,
     "start_time": "2022-06-16T04:50:16.128693",
     "status": "completed"
    },
    "tags": []
   },
   "outputs": [
    {
     "data": {
      "text/plain": [
       "filename         10000\n",
       "text             10000\n",
       "up_votes         10000\n",
       "down_votes       10000\n",
       "age               9934\n",
       "gender           10000\n",
       "accent            8764\n",
       "duration             0\n",
       "target_gender    10000\n",
       "dtype: int64"
      ]
     },
     "execution_count": 19,
     "metadata": {},
     "output_type": "execute_result"
    }
   ],
   "source": [
    "pd_result.count()"
   ]
  },
  {
   "cell_type": "code",
   "execution_count": 20,
   "id": "7073ccf6",
   "metadata": {
    "execution": {
     "iopub.execute_input": "2022-06-16T04:50:16.256080Z",
     "iopub.status.busy": "2022-06-16T04:50:16.255396Z",
     "iopub.status.idle": "2022-06-16T04:50:16.283190Z",
     "shell.execute_reply": "2022-06-16T04:50:16.282025Z"
    },
    "papermill": {
     "duration": 0.063953,
     "end_time": "2022-06-16T04:50:16.286576",
     "exception": false,
     "start_time": "2022-06-16T04:50:16.222623",
     "status": "completed"
    },
    "tags": []
   },
   "outputs": [
    {
     "data": {
      "text/html": [
       "<div>\n",
       "<style scoped>\n",
       "    .dataframe tbody tr th:only-of-type {\n",
       "        vertical-align: middle;\n",
       "    }\n",
       "\n",
       "    .dataframe tbody tr th {\n",
       "        vertical-align: top;\n",
       "    }\n",
       "\n",
       "    .dataframe thead th {\n",
       "        text-align: right;\n",
       "    }\n",
       "</style>\n",
       "<table border=\"1\" class=\"dataframe\">\n",
       "  <thead>\n",
       "    <tr style=\"text-align: right;\">\n",
       "      <th></th>\n",
       "      <th>filename</th>\n",
       "      <th>text</th>\n",
       "      <th>up_votes</th>\n",
       "      <th>down_votes</th>\n",
       "      <th>age</th>\n",
       "      <th>gender</th>\n",
       "      <th>accent</th>\n",
       "      <th>duration</th>\n",
       "      <th>target_gender</th>\n",
       "    </tr>\n",
       "  </thead>\n",
       "  <tbody>\n",
       "    <tr>\n",
       "      <th>8</th>\n",
       "      <td>cv-valid-train/sample-000008.mp3</td>\n",
       "      <td>put jackie right on the staff</td>\n",
       "      <td>3</td>\n",
       "      <td>0</td>\n",
       "      <td>seventies</td>\n",
       "      <td>male</td>\n",
       "      <td>us</td>\n",
       "      <td>NaN</td>\n",
       "      <td>1</td>\n",
       "    </tr>\n",
       "    <tr>\n",
       "      <th>14</th>\n",
       "      <td>cv-valid-train/sample-000014.mp3</td>\n",
       "      <td>as they began to decorate the hallway a silhou...</td>\n",
       "      <td>1</td>\n",
       "      <td>0</td>\n",
       "      <td>sixties</td>\n",
       "      <td>male</td>\n",
       "      <td>england</td>\n",
       "      <td>NaN</td>\n",
       "      <td>1</td>\n",
       "    </tr>\n",
       "    <tr>\n",
       "      <th>19</th>\n",
       "      <td>cv-valid-train/sample-000019.mp3</td>\n",
       "      <td>then they got ahold of some dough and went goofy</td>\n",
       "      <td>1</td>\n",
       "      <td>0</td>\n",
       "      <td>fifties</td>\n",
       "      <td>male</td>\n",
       "      <td>australia</td>\n",
       "      <td>NaN</td>\n",
       "      <td>1</td>\n",
       "    </tr>\n",
       "    <tr>\n",
       "      <th>20</th>\n",
       "      <td>cv-valid-train/sample-000020.mp3</td>\n",
       "      <td>it was faintly marked with transverse stripes ...</td>\n",
       "      <td>5</td>\n",
       "      <td>1</td>\n",
       "      <td>thirties</td>\n",
       "      <td>male</td>\n",
       "      <td>england</td>\n",
       "      <td>NaN</td>\n",
       "      <td>1</td>\n",
       "    </tr>\n",
       "    <tr>\n",
       "      <th>23</th>\n",
       "      <td>cv-valid-train/sample-000023.mp3</td>\n",
       "      <td>i had seen all that it would presently bring me</td>\n",
       "      <td>5</td>\n",
       "      <td>0</td>\n",
       "      <td>thirties</td>\n",
       "      <td>male</td>\n",
       "      <td>us</td>\n",
       "      <td>NaN</td>\n",
       "      <td>1</td>\n",
       "    </tr>\n",
       "  </tbody>\n",
       "</table>\n",
       "</div>"
      ],
      "text/plain": [
       "                            filename  \\\n",
       "8   cv-valid-train/sample-000008.mp3   \n",
       "14  cv-valid-train/sample-000014.mp3   \n",
       "19  cv-valid-train/sample-000019.mp3   \n",
       "20  cv-valid-train/sample-000020.mp3   \n",
       "23  cv-valid-train/sample-000023.mp3   \n",
       "\n",
       "                                                 text  up_votes  down_votes  \\\n",
       "8                       put jackie right on the staff         3           0   \n",
       "14  as they began to decorate the hallway a silhou...         1           0   \n",
       "19   then they got ahold of some dough and went goofy         1           0   \n",
       "20  it was faintly marked with transverse stripes ...         5           1   \n",
       "23    i had seen all that it would presently bring me         5           0   \n",
       "\n",
       "          age gender     accent  duration  target_gender  \n",
       "8   seventies   male         us       NaN              1  \n",
       "14    sixties   male    england       NaN              1  \n",
       "19    fifties   male  australia       NaN              1  \n",
       "20   thirties   male    england       NaN              1  \n",
       "23   thirties   male         us       NaN              1  "
      ]
     },
     "execution_count": 20,
     "metadata": {},
     "output_type": "execute_result"
    }
   ],
   "source": [
    "pd_result.head()"
   ]
  },
  {
   "cell_type": "code",
   "execution_count": 21,
   "id": "0ef85cd4",
   "metadata": {
    "execution": {
     "iopub.execute_input": "2022-06-16T04:50:16.352644Z",
     "iopub.status.busy": "2022-06-16T04:50:16.352000Z",
     "iopub.status.idle": "2022-06-16T04:50:16.378226Z",
     "shell.execute_reply": "2022-06-16T04:50:16.377040Z"
    },
    "papermill": {
     "duration": 0.06271,
     "end_time": "2022-06-16T04:50:16.381810",
     "exception": false,
     "start_time": "2022-06-16T04:50:16.319100",
     "status": "completed"
    },
    "tags": []
   },
   "outputs": [],
   "source": [
    "pd_result = pd_result.sort_values(by = 'filename')"
   ]
  },
  {
   "cell_type": "code",
   "execution_count": 22,
   "id": "1b5dac52",
   "metadata": {
    "execution": {
     "iopub.execute_input": "2022-06-16T04:50:16.447275Z",
     "iopub.status.busy": "2022-06-16T04:50:16.446555Z",
     "iopub.status.idle": "2022-06-16T04:50:16.496747Z",
     "shell.execute_reply": "2022-06-16T04:50:16.495627Z"
    },
    "papermill": {
     "duration": 0.085693,
     "end_time": "2022-06-16T04:50:16.499589",
     "exception": false,
     "start_time": "2022-06-16T04:50:16.413896",
     "status": "completed"
    },
    "tags": []
   },
   "outputs": [
    {
     "data": {
      "text/html": [
       "<div>\n",
       "<style scoped>\n",
       "    .dataframe tbody tr th:only-of-type {\n",
       "        vertical-align: middle;\n",
       "    }\n",
       "\n",
       "    .dataframe tbody tr th {\n",
       "        vertical-align: top;\n",
       "    }\n",
       "\n",
       "    .dataframe thead th {\n",
       "        text-align: right;\n",
       "    }\n",
       "</style>\n",
       "<table border=\"1\" class=\"dataframe\">\n",
       "  <thead>\n",
       "    <tr style=\"text-align: right;\">\n",
       "      <th></th>\n",
       "      <th>filename</th>\n",
       "      <th>text</th>\n",
       "      <th>up_votes</th>\n",
       "      <th>down_votes</th>\n",
       "      <th>age</th>\n",
       "      <th>gender</th>\n",
       "      <th>accent</th>\n",
       "      <th>duration</th>\n",
       "      <th>target_gender</th>\n",
       "    </tr>\n",
       "  </thead>\n",
       "  <tbody>\n",
       "    <tr>\n",
       "      <th>5</th>\n",
       "      <td>cv-valid-train/sample-000005.mp3</td>\n",
       "      <td>a shepherd may like to travel but he should ne...</td>\n",
       "      <td>1</td>\n",
       "      <td>0</td>\n",
       "      <td>twenties</td>\n",
       "      <td>female</td>\n",
       "      <td>us</td>\n",
       "      <td>NaN</td>\n",
       "      <td>0</td>\n",
       "    </tr>\n",
       "    <tr>\n",
       "      <th>8</th>\n",
       "      <td>cv-valid-train/sample-000008.mp3</td>\n",
       "      <td>put jackie right on the staff</td>\n",
       "      <td>3</td>\n",
       "      <td>0</td>\n",
       "      <td>seventies</td>\n",
       "      <td>male</td>\n",
       "      <td>us</td>\n",
       "      <td>NaN</td>\n",
       "      <td>1</td>\n",
       "    </tr>\n",
       "    <tr>\n",
       "      <th>13</th>\n",
       "      <td>cv-valid-train/sample-000013.mp3</td>\n",
       "      <td>but he had found a guide and didn't want to mi...</td>\n",
       "      <td>1</td>\n",
       "      <td>0</td>\n",
       "      <td>thirties</td>\n",
       "      <td>female</td>\n",
       "      <td>us</td>\n",
       "      <td>NaN</td>\n",
       "      <td>0</td>\n",
       "    </tr>\n",
       "    <tr>\n",
       "      <th>14</th>\n",
       "      <td>cv-valid-train/sample-000014.mp3</td>\n",
       "      <td>as they began to decorate the hallway a silhou...</td>\n",
       "      <td>1</td>\n",
       "      <td>0</td>\n",
       "      <td>sixties</td>\n",
       "      <td>male</td>\n",
       "      <td>england</td>\n",
       "      <td>NaN</td>\n",
       "      <td>1</td>\n",
       "    </tr>\n",
       "    <tr>\n",
       "      <th>19</th>\n",
       "      <td>cv-valid-train/sample-000019.mp3</td>\n",
       "      <td>then they got ahold of some dough and went goofy</td>\n",
       "      <td>1</td>\n",
       "      <td>0</td>\n",
       "      <td>fifties</td>\n",
       "      <td>male</td>\n",
       "      <td>australia</td>\n",
       "      <td>NaN</td>\n",
       "      <td>1</td>\n",
       "    </tr>\n",
       "    <tr>\n",
       "      <th>20</th>\n",
       "      <td>cv-valid-train/sample-000020.mp3</td>\n",
       "      <td>it was faintly marked with transverse stripes ...</td>\n",
       "      <td>5</td>\n",
       "      <td>1</td>\n",
       "      <td>thirties</td>\n",
       "      <td>male</td>\n",
       "      <td>england</td>\n",
       "      <td>NaN</td>\n",
       "      <td>1</td>\n",
       "    </tr>\n",
       "    <tr>\n",
       "      <th>23</th>\n",
       "      <td>cv-valid-train/sample-000023.mp3</td>\n",
       "      <td>i had seen all that it would presently bring me</td>\n",
       "      <td>5</td>\n",
       "      <td>0</td>\n",
       "      <td>thirties</td>\n",
       "      <td>male</td>\n",
       "      <td>us</td>\n",
       "      <td>NaN</td>\n",
       "      <td>1</td>\n",
       "    </tr>\n",
       "    <tr>\n",
       "      <th>26</th>\n",
       "      <td>cv-valid-train/sample-000026.mp3</td>\n",
       "      <td>two years ago right here on this spot i had a ...</td>\n",
       "      <td>4</td>\n",
       "      <td>0</td>\n",
       "      <td>twenties</td>\n",
       "      <td>female</td>\n",
       "      <td>australia</td>\n",
       "      <td>NaN</td>\n",
       "      <td>0</td>\n",
       "    </tr>\n",
       "    <tr>\n",
       "      <th>27</th>\n",
       "      <td>cv-valid-train/sample-000027.mp3</td>\n",
       "      <td>don't let them see that you're afraid the alch...</td>\n",
       "      <td>3</td>\n",
       "      <td>0</td>\n",
       "      <td>twenties</td>\n",
       "      <td>male</td>\n",
       "      <td>australia</td>\n",
       "      <td>NaN</td>\n",
       "      <td>1</td>\n",
       "    </tr>\n",
       "    <tr>\n",
       "      <th>29</th>\n",
       "      <td>cv-valid-train/sample-000029.mp3</td>\n",
       "      <td>the fire alarm went off again but when i looke...</td>\n",
       "      <td>1</td>\n",
       "      <td>0</td>\n",
       "      <td>thirties</td>\n",
       "      <td>male</td>\n",
       "      <td>indian</td>\n",
       "      <td>NaN</td>\n",
       "      <td>1</td>\n",
       "    </tr>\n",
       "    <tr>\n",
       "      <th>34</th>\n",
       "      <td>cv-valid-train/sample-000034.mp3</td>\n",
       "      <td>i have had the same dream twice he said</td>\n",
       "      <td>1</td>\n",
       "      <td>0</td>\n",
       "      <td>fourties</td>\n",
       "      <td>female</td>\n",
       "      <td>us</td>\n",
       "      <td>NaN</td>\n",
       "      <td>0</td>\n",
       "    </tr>\n",
       "    <tr>\n",
       "      <th>36</th>\n",
       "      <td>cv-valid-train/sample-000036.mp3</td>\n",
       "      <td>ask the owner of that stall how much the sword...</td>\n",
       "      <td>2</td>\n",
       "      <td>1</td>\n",
       "      <td>twenties</td>\n",
       "      <td>male</td>\n",
       "      <td>australia</td>\n",
       "      <td>NaN</td>\n",
       "      <td>1</td>\n",
       "    </tr>\n",
       "    <tr>\n",
       "      <th>39</th>\n",
       "      <td>cv-valid-train/sample-000039.mp3</td>\n",
       "      <td>a large piece suddenly came off and fell with ...</td>\n",
       "      <td>3</td>\n",
       "      <td>1</td>\n",
       "      <td>teens</td>\n",
       "      <td>female</td>\n",
       "      <td>canada</td>\n",
       "      <td>NaN</td>\n",
       "      <td>0</td>\n",
       "    </tr>\n",
       "    <tr>\n",
       "      <th>43</th>\n",
       "      <td>cv-valid-train/sample-000043.mp3</td>\n",
       "      <td>separation of garbage makes recycling possible</td>\n",
       "      <td>1</td>\n",
       "      <td>0</td>\n",
       "      <td>twenties</td>\n",
       "      <td>male</td>\n",
       "      <td>NaN</td>\n",
       "      <td>NaN</td>\n",
       "      <td>1</td>\n",
       "    </tr>\n",
       "    <tr>\n",
       "      <th>44</th>\n",
       "      <td>cv-valid-train/sample-000044.mp3</td>\n",
       "      <td>they were people of the desert and clamored to...</td>\n",
       "      <td>2</td>\n",
       "      <td>0</td>\n",
       "      <td>thirties</td>\n",
       "      <td>male</td>\n",
       "      <td>england</td>\n",
       "      <td>NaN</td>\n",
       "      <td>1</td>\n",
       "    </tr>\n",
       "    <tr>\n",
       "      <th>47</th>\n",
       "      <td>cv-valid-train/sample-000047.mp3</td>\n",
       "      <td>most of them were staring quietly at the big t...</td>\n",
       "      <td>3</td>\n",
       "      <td>0</td>\n",
       "      <td>sixties</td>\n",
       "      <td>male</td>\n",
       "      <td>us</td>\n",
       "      <td>NaN</td>\n",
       "      <td>1</td>\n",
       "    </tr>\n",
       "    <tr>\n",
       "      <th>49</th>\n",
       "      <td>cv-valid-train/sample-000049.mp3</td>\n",
       "      <td>so how will we name all these hurricanes</td>\n",
       "      <td>2</td>\n",
       "      <td>1</td>\n",
       "      <td>fourties</td>\n",
       "      <td>male</td>\n",
       "      <td>australia</td>\n",
       "      <td>NaN</td>\n",
       "      <td>1</td>\n",
       "    </tr>\n",
       "    <tr>\n",
       "      <th>50</th>\n",
       "      <td>cv-valid-train/sample-000050.mp3</td>\n",
       "      <td>just the ant colony of the neighborhood</td>\n",
       "      <td>1</td>\n",
       "      <td>0</td>\n",
       "      <td>twenties</td>\n",
       "      <td>male</td>\n",
       "      <td>NaN</td>\n",
       "      <td>NaN</td>\n",
       "      <td>1</td>\n",
       "    </tr>\n",
       "    <tr>\n",
       "      <th>51</th>\n",
       "      <td>cv-valid-train/sample-000051.mp3</td>\n",
       "      <td>so the boy was disappointed he decided that he...</td>\n",
       "      <td>2</td>\n",
       "      <td>0</td>\n",
       "      <td>thirties</td>\n",
       "      <td>female</td>\n",
       "      <td>us</td>\n",
       "      <td>NaN</td>\n",
       "      <td>0</td>\n",
       "    </tr>\n",
       "    <tr>\n",
       "      <th>53</th>\n",
       "      <td>cv-valid-train/sample-000053.mp3</td>\n",
       "      <td>don't you know that girl's very sick</td>\n",
       "      <td>2</td>\n",
       "      <td>0</td>\n",
       "      <td>fourties</td>\n",
       "      <td>male</td>\n",
       "      <td>england</td>\n",
       "      <td>NaN</td>\n",
       "      <td>1</td>\n",
       "    </tr>\n",
       "    <tr>\n",
       "      <th>54</th>\n",
       "      <td>cv-valid-train/sample-000054.mp3</td>\n",
       "      <td>that man is terrific</td>\n",
       "      <td>3</td>\n",
       "      <td>0</td>\n",
       "      <td>thirties</td>\n",
       "      <td>male</td>\n",
       "      <td>england</td>\n",
       "      <td>NaN</td>\n",
       "      <td>1</td>\n",
       "    </tr>\n",
       "    <tr>\n",
       "      <th>56</th>\n",
       "      <td>cv-valid-train/sample-000056.mp3</td>\n",
       "      <td>i'm everything the district attorney said i was</td>\n",
       "      <td>2</td>\n",
       "      <td>0</td>\n",
       "      <td>seventies</td>\n",
       "      <td>male</td>\n",
       "      <td>england</td>\n",
       "      <td>NaN</td>\n",
       "      <td>1</td>\n",
       "    </tr>\n",
       "    <tr>\n",
       "      <th>57</th>\n",
       "      <td>cv-valid-train/sample-000057.mp3</td>\n",
       "      <td>i'm in a drugstore</td>\n",
       "      <td>1</td>\n",
       "      <td>0</td>\n",
       "      <td>fifties</td>\n",
       "      <td>female</td>\n",
       "      <td>NaN</td>\n",
       "      <td>NaN</td>\n",
       "      <td>0</td>\n",
       "    </tr>\n",
       "    <tr>\n",
       "      <th>59</th>\n",
       "      <td>cv-valid-train/sample-000059.mp3</td>\n",
       "      <td>finally a young woman approached who was not d...</td>\n",
       "      <td>3</td>\n",
       "      <td>0</td>\n",
       "      <td>twenties</td>\n",
       "      <td>female</td>\n",
       "      <td>us</td>\n",
       "      <td>NaN</td>\n",
       "      <td>0</td>\n",
       "    </tr>\n",
       "    <tr>\n",
       "      <th>62</th>\n",
       "      <td>cv-valid-train/sample-000062.mp3</td>\n",
       "      <td>wait for the end of the war</td>\n",
       "      <td>2</td>\n",
       "      <td>0</td>\n",
       "      <td>fifties</td>\n",
       "      <td>male</td>\n",
       "      <td>NaN</td>\n",
       "      <td>NaN</td>\n",
       "      <td>1</td>\n",
       "    </tr>\n",
       "    <tr>\n",
       "      <th>65</th>\n",
       "      <td>cv-valid-train/sample-000065.mp3</td>\n",
       "      <td>you're looking for witch doctors he spoke some...</td>\n",
       "      <td>1</td>\n",
       "      <td>0</td>\n",
       "      <td>twenties</td>\n",
       "      <td>male</td>\n",
       "      <td>us</td>\n",
       "      <td>NaN</td>\n",
       "      <td>1</td>\n",
       "    </tr>\n",
       "    <tr>\n",
       "      <th>68</th>\n",
       "      <td>cv-valid-train/sample-000068.mp3</td>\n",
       "      <td>the flock of flamingos landed gracefully on th...</td>\n",
       "      <td>1</td>\n",
       "      <td>0</td>\n",
       "      <td>twenties</td>\n",
       "      <td>male</td>\n",
       "      <td>indian</td>\n",
       "      <td>NaN</td>\n",
       "      <td>1</td>\n",
       "    </tr>\n",
       "    <tr>\n",
       "      <th>72</th>\n",
       "      <td>cv-valid-train/sample-000072.mp3</td>\n",
       "      <td>the charcoal burned away to white ash</td>\n",
       "      <td>2</td>\n",
       "      <td>0</td>\n",
       "      <td>fifties</td>\n",
       "      <td>male</td>\n",
       "      <td>us</td>\n",
       "      <td>NaN</td>\n",
       "      <td>1</td>\n",
       "    </tr>\n",
       "    <tr>\n",
       "      <th>73</th>\n",
       "      <td>cv-valid-train/sample-000073.mp3</td>\n",
       "      <td>the greatest authority on meteorites stated th...</td>\n",
       "      <td>5</td>\n",
       "      <td>0</td>\n",
       "      <td>twenties</td>\n",
       "      <td>male</td>\n",
       "      <td>us</td>\n",
       "      <td>NaN</td>\n",
       "      <td>1</td>\n",
       "    </tr>\n",
       "    <tr>\n",
       "      <th>77</th>\n",
       "      <td>cv-valid-train/sample-000077.mp3</td>\n",
       "      <td>it was faintly marked with transverse stripes ...</td>\n",
       "      <td>3</td>\n",
       "      <td>0</td>\n",
       "      <td>fourties</td>\n",
       "      <td>female</td>\n",
       "      <td>us</td>\n",
       "      <td>NaN</td>\n",
       "      <td>0</td>\n",
       "    </tr>\n",
       "    <tr>\n",
       "      <th>81</th>\n",
       "      <td>cv-valid-train/sample-000081.mp3</td>\n",
       "      <td>the shop is exactly the size i always wanted i...</td>\n",
       "      <td>9</td>\n",
       "      <td>0</td>\n",
       "      <td>fifties</td>\n",
       "      <td>male</td>\n",
       "      <td>us</td>\n",
       "      <td>NaN</td>\n",
       "      <td>1</td>\n",
       "    </tr>\n",
       "    <tr>\n",
       "      <th>82</th>\n",
       "      <td>cv-valid-train/sample-000082.mp3</td>\n",
       "      <td>how do you handle the negative weights</td>\n",
       "      <td>1</td>\n",
       "      <td>0</td>\n",
       "      <td>fifties</td>\n",
       "      <td>male</td>\n",
       "      <td>us</td>\n",
       "      <td>NaN</td>\n",
       "      <td>1</td>\n",
       "    </tr>\n",
       "    <tr>\n",
       "      <th>88</th>\n",
       "      <td>cv-valid-train/sample-000088.mp3</td>\n",
       "      <td>all this happened between sunrise and sunset t...</td>\n",
       "      <td>3</td>\n",
       "      <td>0</td>\n",
       "      <td>teens</td>\n",
       "      <td>female</td>\n",
       "      <td>us</td>\n",
       "      <td>NaN</td>\n",
       "      <td>0</td>\n",
       "    </tr>\n",
       "    <tr>\n",
       "      <th>92</th>\n",
       "      <td>cv-valid-train/sample-000092.mp3</td>\n",
       "      <td>who is this stranger who speaks of omens asked...</td>\n",
       "      <td>3</td>\n",
       "      <td>0</td>\n",
       "      <td>twenties</td>\n",
       "      <td>male</td>\n",
       "      <td>indian</td>\n",
       "      <td>NaN</td>\n",
       "      <td>1</td>\n",
       "    </tr>\n",
       "    <tr>\n",
       "      <th>97</th>\n",
       "      <td>cv-valid-train/sample-000097.mp3</td>\n",
       "      <td>it's late in the evening a perfect time for co...</td>\n",
       "      <td>2</td>\n",
       "      <td>1</td>\n",
       "      <td>twenties</td>\n",
       "      <td>male</td>\n",
       "      <td>us</td>\n",
       "      <td>NaN</td>\n",
       "      <td>1</td>\n",
       "    </tr>\n",
       "    <tr>\n",
       "      <th>100</th>\n",
       "      <td>cv-valid-train/sample-000100.mp3</td>\n",
       "      <td>half an hour later his shovel hit something solid</td>\n",
       "      <td>3</td>\n",
       "      <td>0</td>\n",
       "      <td>fourties</td>\n",
       "      <td>male</td>\n",
       "      <td>england</td>\n",
       "      <td>NaN</td>\n",
       "      <td>1</td>\n",
       "    </tr>\n",
       "    <tr>\n",
       "      <th>101</th>\n",
       "      <td>cv-valid-train/sample-000101.mp3</td>\n",
       "      <td>the fumes from the traffic was unbearable</td>\n",
       "      <td>2</td>\n",
       "      <td>0</td>\n",
       "      <td>twenties</td>\n",
       "      <td>female</td>\n",
       "      <td>NaN</td>\n",
       "      <td>NaN</td>\n",
       "      <td>0</td>\n",
       "    </tr>\n",
       "    <tr>\n",
       "      <th>105</th>\n",
       "      <td>cv-valid-train/sample-000105.mp3</td>\n",
       "      <td>it was immediately apparent</td>\n",
       "      <td>1</td>\n",
       "      <td>0</td>\n",
       "      <td>twenties</td>\n",
       "      <td>male</td>\n",
       "      <td>NaN</td>\n",
       "      <td>NaN</td>\n",
       "      <td>1</td>\n",
       "    </tr>\n",
       "    <tr>\n",
       "      <th>106</th>\n",
       "      <td>cv-valid-train/sample-000106.mp3</td>\n",
       "      <td>i don't understand what you're talking about t...</td>\n",
       "      <td>1</td>\n",
       "      <td>0</td>\n",
       "      <td>thirties</td>\n",
       "      <td>female</td>\n",
       "      <td>malaysia</td>\n",
       "      <td>NaN</td>\n",
       "      <td>0</td>\n",
       "    </tr>\n",
       "    <tr>\n",
       "      <th>111</th>\n",
       "      <td>cv-valid-train/sample-000111.mp3</td>\n",
       "      <td>he still calls his mother 'mummy'</td>\n",
       "      <td>1</td>\n",
       "      <td>0</td>\n",
       "      <td>twenties</td>\n",
       "      <td>male</td>\n",
       "      <td>NaN</td>\n",
       "      <td>NaN</td>\n",
       "      <td>1</td>\n",
       "    </tr>\n",
       "    <tr>\n",
       "      <th>115</th>\n",
       "      <td>cv-valid-train/sample-000115.mp3</td>\n",
       "      <td>harry'll tear his dinner suit</td>\n",
       "      <td>1</td>\n",
       "      <td>0</td>\n",
       "      <td>thirties</td>\n",
       "      <td>male</td>\n",
       "      <td>ireland</td>\n",
       "      <td>NaN</td>\n",
       "      <td>1</td>\n",
       "    </tr>\n",
       "    <tr>\n",
       "      <th>116</th>\n",
       "      <td>cv-valid-train/sample-000116.mp3</td>\n",
       "      <td>sometime during the second year you'll remembe...</td>\n",
       "      <td>1</td>\n",
       "      <td>0</td>\n",
       "      <td>twenties</td>\n",
       "      <td>male</td>\n",
       "      <td>NaN</td>\n",
       "      <td>NaN</td>\n",
       "      <td>1</td>\n",
       "    </tr>\n",
       "    <tr>\n",
       "      <th>118</th>\n",
       "      <td>cv-valid-train/sample-000118.mp3</td>\n",
       "      <td>his hands were abraded and exhausted but he li...</td>\n",
       "      <td>2</td>\n",
       "      <td>0</td>\n",
       "      <td>thirties</td>\n",
       "      <td>male</td>\n",
       "      <td>us</td>\n",
       "      <td>NaN</td>\n",
       "      <td>1</td>\n",
       "    </tr>\n",
       "    <tr>\n",
       "      <th>121</th>\n",
       "      <td>cv-valid-train/sample-000121.mp3</td>\n",
       "      <td>watch over her tonight</td>\n",
       "      <td>2</td>\n",
       "      <td>0</td>\n",
       "      <td>thirties</td>\n",
       "      <td>male</td>\n",
       "      <td>england</td>\n",
       "      <td>NaN</td>\n",
       "      <td>1</td>\n",
       "    </tr>\n",
       "    <tr>\n",
       "      <th>124</th>\n",
       "      <td>cv-valid-train/sample-000124.mp3</td>\n",
       "      <td>the boy repeated his question</td>\n",
       "      <td>1</td>\n",
       "      <td>0</td>\n",
       "      <td>thirties</td>\n",
       "      <td>female</td>\n",
       "      <td>bermuda</td>\n",
       "      <td>NaN</td>\n",
       "      <td>0</td>\n",
       "    </tr>\n",
       "    <tr>\n",
       "      <th>128</th>\n",
       "      <td>cv-valid-train/sample-000128.mp3</td>\n",
       "      <td>you have told me about your dreams about the o...</td>\n",
       "      <td>1</td>\n",
       "      <td>0</td>\n",
       "      <td>thirties</td>\n",
       "      <td>female</td>\n",
       "      <td>NaN</td>\n",
       "      <td>NaN</td>\n",
       "      <td>0</td>\n",
       "    </tr>\n",
       "    <tr>\n",
       "      <th>132</th>\n",
       "      <td>cv-valid-train/sample-000132.mp3</td>\n",
       "      <td>with the girl with the raven hair his days wou...</td>\n",
       "      <td>3</td>\n",
       "      <td>0</td>\n",
       "      <td>sixties</td>\n",
       "      <td>male</td>\n",
       "      <td>us</td>\n",
       "      <td>NaN</td>\n",
       "      <td>1</td>\n",
       "    </tr>\n",
       "    <tr>\n",
       "      <th>133</th>\n",
       "      <td>cv-valid-train/sample-000133.mp3</td>\n",
       "      <td>he heard a muffled grating sound and saw the b...</td>\n",
       "      <td>3</td>\n",
       "      <td>1</td>\n",
       "      <td>thirties</td>\n",
       "      <td>female</td>\n",
       "      <td>australia</td>\n",
       "      <td>NaN</td>\n",
       "      <td>0</td>\n",
       "    </tr>\n",
       "    <tr>\n",
       "      <th>135</th>\n",
       "      <td>cv-valid-train/sample-000135.mp3</td>\n",
       "      <td>like crickets and like expectations like lizar...</td>\n",
       "      <td>1</td>\n",
       "      <td>0</td>\n",
       "      <td>fourties</td>\n",
       "      <td>male</td>\n",
       "      <td>england</td>\n",
       "      <td>NaN</td>\n",
       "      <td>1</td>\n",
       "    </tr>\n",
       "    <tr>\n",
       "      <th>137</th>\n",
       "      <td>cv-valid-train/sample-000137.mp3</td>\n",
       "      <td>i thought about the difficulties in translatio...</td>\n",
       "      <td>2</td>\n",
       "      <td>1</td>\n",
       "      <td>fifties</td>\n",
       "      <td>male</td>\n",
       "      <td>NaN</td>\n",
       "      <td>NaN</td>\n",
       "      <td>1</td>\n",
       "    </tr>\n",
       "  </tbody>\n",
       "</table>\n",
       "</div>"
      ],
      "text/plain": [
       "                             filename  \\\n",
       "5    cv-valid-train/sample-000005.mp3   \n",
       "8    cv-valid-train/sample-000008.mp3   \n",
       "13   cv-valid-train/sample-000013.mp3   \n",
       "14   cv-valid-train/sample-000014.mp3   \n",
       "19   cv-valid-train/sample-000019.mp3   \n",
       "20   cv-valid-train/sample-000020.mp3   \n",
       "23   cv-valid-train/sample-000023.mp3   \n",
       "26   cv-valid-train/sample-000026.mp3   \n",
       "27   cv-valid-train/sample-000027.mp3   \n",
       "29   cv-valid-train/sample-000029.mp3   \n",
       "34   cv-valid-train/sample-000034.mp3   \n",
       "36   cv-valid-train/sample-000036.mp3   \n",
       "39   cv-valid-train/sample-000039.mp3   \n",
       "43   cv-valid-train/sample-000043.mp3   \n",
       "44   cv-valid-train/sample-000044.mp3   \n",
       "47   cv-valid-train/sample-000047.mp3   \n",
       "49   cv-valid-train/sample-000049.mp3   \n",
       "50   cv-valid-train/sample-000050.mp3   \n",
       "51   cv-valid-train/sample-000051.mp3   \n",
       "53   cv-valid-train/sample-000053.mp3   \n",
       "54   cv-valid-train/sample-000054.mp3   \n",
       "56   cv-valid-train/sample-000056.mp3   \n",
       "57   cv-valid-train/sample-000057.mp3   \n",
       "59   cv-valid-train/sample-000059.mp3   \n",
       "62   cv-valid-train/sample-000062.mp3   \n",
       "65   cv-valid-train/sample-000065.mp3   \n",
       "68   cv-valid-train/sample-000068.mp3   \n",
       "72   cv-valid-train/sample-000072.mp3   \n",
       "73   cv-valid-train/sample-000073.mp3   \n",
       "77   cv-valid-train/sample-000077.mp3   \n",
       "81   cv-valid-train/sample-000081.mp3   \n",
       "82   cv-valid-train/sample-000082.mp3   \n",
       "88   cv-valid-train/sample-000088.mp3   \n",
       "92   cv-valid-train/sample-000092.mp3   \n",
       "97   cv-valid-train/sample-000097.mp3   \n",
       "100  cv-valid-train/sample-000100.mp3   \n",
       "101  cv-valid-train/sample-000101.mp3   \n",
       "105  cv-valid-train/sample-000105.mp3   \n",
       "106  cv-valid-train/sample-000106.mp3   \n",
       "111  cv-valid-train/sample-000111.mp3   \n",
       "115  cv-valid-train/sample-000115.mp3   \n",
       "116  cv-valid-train/sample-000116.mp3   \n",
       "118  cv-valid-train/sample-000118.mp3   \n",
       "121  cv-valid-train/sample-000121.mp3   \n",
       "124  cv-valid-train/sample-000124.mp3   \n",
       "128  cv-valid-train/sample-000128.mp3   \n",
       "132  cv-valid-train/sample-000132.mp3   \n",
       "133  cv-valid-train/sample-000133.mp3   \n",
       "135  cv-valid-train/sample-000135.mp3   \n",
       "137  cv-valid-train/sample-000137.mp3   \n",
       "\n",
       "                                                  text  up_votes  down_votes  \\\n",
       "5    a shepherd may like to travel but he should ne...         1           0   \n",
       "8                        put jackie right on the staff         3           0   \n",
       "13   but he had found a guide and didn't want to mi...         1           0   \n",
       "14   as they began to decorate the hallway a silhou...         1           0   \n",
       "19    then they got ahold of some dough and went goofy         1           0   \n",
       "20   it was faintly marked with transverse stripes ...         5           1   \n",
       "23     i had seen all that it would presently bring me         5           0   \n",
       "26   two years ago right here on this spot i had a ...         4           0   \n",
       "27   don't let them see that you're afraid the alch...         3           0   \n",
       "29   the fire alarm went off again but when i looke...         1           0   \n",
       "34             i have had the same dream twice he said         1           0   \n",
       "36   ask the owner of that stall how much the sword...         2           1   \n",
       "39   a large piece suddenly came off and fell with ...         3           1   \n",
       "43      separation of garbage makes recycling possible         1           0   \n",
       "44   they were people of the desert and clamored to...         2           0   \n",
       "47   most of them were staring quietly at the big t...         3           0   \n",
       "49            so how will we name all these hurricanes         2           1   \n",
       "50             just the ant colony of the neighborhood         1           0   \n",
       "51   so the boy was disappointed he decided that he...         2           0   \n",
       "53                don't you know that girl's very sick         2           0   \n",
       "54                                that man is terrific         3           0   \n",
       "56     i'm everything the district attorney said i was         2           0   \n",
       "57                                  i'm in a drugstore         1           0   \n",
       "59   finally a young woman approached who was not d...         3           0   \n",
       "62                         wait for the end of the war         2           0   \n",
       "65   you're looking for witch doctors he spoke some...         1           0   \n",
       "68   the flock of flamingos landed gracefully on th...         1           0   \n",
       "72               the charcoal burned away to white ash         2           0   \n",
       "73   the greatest authority on meteorites stated th...         5           0   \n",
       "77   it was faintly marked with transverse stripes ...         3           0   \n",
       "81   the shop is exactly the size i always wanted i...         9           0   \n",
       "82              how do you handle the negative weights         1           0   \n",
       "88   all this happened between sunrise and sunset t...         3           0   \n",
       "92   who is this stranger who speaks of omens asked...         3           0   \n",
       "97   it's late in the evening a perfect time for co...         2           1   \n",
       "100  half an hour later his shovel hit something solid         3           0   \n",
       "101          the fumes from the traffic was unbearable         2           0   \n",
       "105                        it was immediately apparent         1           0   \n",
       "106  i don't understand what you're talking about t...         1           0   \n",
       "111                  he still calls his mother 'mummy'         1           0   \n",
       "115                      harry'll tear his dinner suit         1           0   \n",
       "116  sometime during the second year you'll remembe...         1           0   \n",
       "118  his hands were abraded and exhausted but he li...         2           0   \n",
       "121                             watch over her tonight         2           0   \n",
       "124                      the boy repeated his question         1           0   \n",
       "128  you have told me about your dreams about the o...         1           0   \n",
       "132  with the girl with the raven hair his days wou...         3           0   \n",
       "133  he heard a muffled grating sound and saw the b...         3           1   \n",
       "135  like crickets and like expectations like lizar...         1           0   \n",
       "137  i thought about the difficulties in translatio...         2           1   \n",
       "\n",
       "           age  gender     accent  duration  target_gender  \n",
       "5     twenties  female         us       NaN              0  \n",
       "8    seventies    male         us       NaN              1  \n",
       "13    thirties  female         us       NaN              0  \n",
       "14     sixties    male    england       NaN              1  \n",
       "19     fifties    male  australia       NaN              1  \n",
       "20    thirties    male    england       NaN              1  \n",
       "23    thirties    male         us       NaN              1  \n",
       "26    twenties  female  australia       NaN              0  \n",
       "27    twenties    male  australia       NaN              1  \n",
       "29    thirties    male     indian       NaN              1  \n",
       "34    fourties  female         us       NaN              0  \n",
       "36    twenties    male  australia       NaN              1  \n",
       "39       teens  female     canada       NaN              0  \n",
       "43    twenties    male        NaN       NaN              1  \n",
       "44    thirties    male    england       NaN              1  \n",
       "47     sixties    male         us       NaN              1  \n",
       "49    fourties    male  australia       NaN              1  \n",
       "50    twenties    male        NaN       NaN              1  \n",
       "51    thirties  female         us       NaN              0  \n",
       "53    fourties    male    england       NaN              1  \n",
       "54    thirties    male    england       NaN              1  \n",
       "56   seventies    male    england       NaN              1  \n",
       "57     fifties  female        NaN       NaN              0  \n",
       "59    twenties  female         us       NaN              0  \n",
       "62     fifties    male        NaN       NaN              1  \n",
       "65    twenties    male         us       NaN              1  \n",
       "68    twenties    male     indian       NaN              1  \n",
       "72     fifties    male         us       NaN              1  \n",
       "73    twenties    male         us       NaN              1  \n",
       "77    fourties  female         us       NaN              0  \n",
       "81     fifties    male         us       NaN              1  \n",
       "82     fifties    male         us       NaN              1  \n",
       "88       teens  female         us       NaN              0  \n",
       "92    twenties    male     indian       NaN              1  \n",
       "97    twenties    male         us       NaN              1  \n",
       "100   fourties    male    england       NaN              1  \n",
       "101   twenties  female        NaN       NaN              0  \n",
       "105   twenties    male        NaN       NaN              1  \n",
       "106   thirties  female   malaysia       NaN              0  \n",
       "111   twenties    male        NaN       NaN              1  \n",
       "115   thirties    male    ireland       NaN              1  \n",
       "116   twenties    male        NaN       NaN              1  \n",
       "118   thirties    male         us       NaN              1  \n",
       "121   thirties    male    england       NaN              1  \n",
       "124   thirties  female    bermuda       NaN              0  \n",
       "128   thirties  female        NaN       NaN              0  \n",
       "132    sixties    male         us       NaN              1  \n",
       "133   thirties  female  australia       NaN              0  \n",
       "135   fourties    male    england       NaN              1  \n",
       "137    fifties    male        NaN       NaN              1  "
      ]
     },
     "execution_count": 22,
     "metadata": {},
     "output_type": "execute_result"
    }
   ],
   "source": [
    "pd_result.head(50)"
   ]
  },
  {
   "cell_type": "code",
   "execution_count": 23,
   "id": "0000ee24",
   "metadata": {
    "execution": {
     "iopub.execute_input": "2022-06-16T04:50:16.572742Z",
     "iopub.status.busy": "2022-06-16T04:50:16.572321Z",
     "iopub.status.idle": "2022-06-16T04:50:16.938062Z",
     "shell.execute_reply": "2022-06-16T04:50:16.936850Z"
    },
    "papermill": {
     "duration": 0.404833,
     "end_time": "2022-06-16T04:50:16.940399",
     "exception": false,
     "start_time": "2022-06-16T04:50:16.535566",
     "status": "completed"
    },
    "tags": []
   },
   "outputs": [
    {
     "data": {
      "image/png": "[encoded data removed]",
      "text/plain": [
       "<Figure size 432x288 with 2 Axes>"
      ]
     },
     "metadata": {
      "needs_background": "light"
     },
     "output_type": "display_data"
    }
   ],
   "source": [
    "plt.subplot(1, 2, 1)\n",
    "pd_result.groupby('target_gender')['filename'].count().plot.bar()\n",
    "plt.grid(True)\n",
    "plt.title('Gender Count')\n",
    "plt.subplots_adjust(right=1.9)\n",
    "\n",
    "# Biểu đồ phân phối các câu hỏi \n",
    "plt.subplot(1, 2, 2)\n",
    "values = [pd_result[pd_result['target_gender']==0].shape[0], pd_result[pd_result['target_gender']==1].shape[0]]\n",
    "labels = ['Female', 'Male']\n",
    "\n",
    "plt.pie(values, labels=labels, autopct='%1.1f%%', shadow=True)\n",
    "plt.title('Gender Distribution')\n",
    "plt.tight_layout()\n",
    "plt.subplots_adjust(right=1.9)\n",
    "\n",
    "plt.show()\n"
   ]
  },
  {
   "cell_type": "code",
   "execution_count": 24,
   "id": "8bfd5d55",
   "metadata": {
    "execution": {
     "iopub.execute_input": "2022-06-16T04:50:17.002513Z",
     "iopub.status.busy": "2022-06-16T04:50:17.001859Z",
     "iopub.status.idle": "2022-06-16T04:50:17.013067Z",
     "shell.execute_reply": "2022-06-16T04:50:17.011970Z"
    },
    "papermill": {
     "duration": 0.053195,
     "end_time": "2022-06-16T04:50:17.016917",
     "exception": false,
     "start_time": "2022-06-16T04:50:16.963722",
     "status": "completed"
    },
    "tags": []
   },
   "outputs": [
    {
     "name": "stdout",
     "output_type": "stream",
     "text": [
      "                               filename                       text  up_votes  \\\n",
      "53135  cv-valid-train/sample-053135.mp3  i got doctor bills to pay         1   \n",
      "\n",
      "       down_votes      age  gender accent  duration  target_gender  \n",
      "53135           0  sixties  female     us       NaN              0  \n"
     ]
    }
   ],
   "source": [
    "last_row_df = pd_result.iloc[-1:]\n",
    "print(last_row_df)\n"
   ]
  },
  {
   "cell_type": "code",
   "execution_count": 25,
   "id": "607340cb",
   "metadata": {
    "execution": {
     "iopub.execute_input": "2022-06-16T04:50:17.061253Z",
     "iopub.status.busy": "2022-06-16T04:50:17.060426Z",
     "iopub.status.idle": "2022-06-16T04:50:17.074407Z",
     "shell.execute_reply": "2022-06-16T04:50:17.072596Z"
    },
    "papermill": {
     "duration": 0.038817,
     "end_time": "2022-06-16T04:50:17.077699",
     "exception": false,
     "start_time": "2022-06-16T04:50:17.038882",
     "status": "completed"
    },
    "tags": []
   },
   "outputs": [
    {
     "name": "stdout",
     "output_type": "stream",
     "text": [
      "10000\n",
      "<class 'dict'>\n"
     ]
    }
   ],
   "source": [
    "dict_audio = dict(zip(pd_result['filename'], pd_result['target_gender']))\n",
    "print(len(dict_audio))\n",
    "print(type(dict_audio))"
   ]
  },
  {
   "cell_type": "code",
   "execution_count": 26,
   "id": "89e74ef7",
   "metadata": {
    "execution": {
     "iopub.execute_input": "2022-06-16T04:50:17.121896Z",
     "iopub.status.busy": "2022-06-16T04:50:17.121097Z",
     "iopub.status.idle": "2022-06-16T04:50:17.126248Z",
     "shell.execute_reply": "2022-06-16T04:50:17.125082Z"
    },
    "papermill": {
     "duration": 0.029493,
     "end_time": "2022-06-16T04:50:17.128635",
     "exception": false,
     "start_time": "2022-06-16T04:50:17.099142",
     "status": "completed"
    },
    "tags": []
   },
   "outputs": [],
   "source": [
    "# dict_pairs = dict_audio.items()\n",
    "# pairs_iterator = iter(dict_pairs)\n",
    "# first_pair = next(pairs_iterator)\n",
    "# print(first_pair)\n",
    "\n",
    "# path = os.path.join(dir_path, first_pair[0].split(\"/\")[0],first_pair[0])\n",
    "# y, sr = librosa.load(path)\n",
    "# print(y)\n",
    "# print('Length of y:', len(y))\n",
    "# print('y shape:', np.shape(y))\n",
    "# print('Sample rate:', sr, 'KHz')\n",
    "# print('Duration',librosa.get_duration(y=y, sr=sr))"
   ]
  },
  {
   "cell_type": "code",
   "execution_count": 27,
   "id": "fbe958a1",
   "metadata": {
    "execution": {
     "iopub.execute_input": "2022-06-16T04:50:17.171180Z",
     "iopub.status.busy": "2022-06-16T04:50:17.170394Z",
     "iopub.status.idle": "2022-06-16T04:50:17.175108Z",
     "shell.execute_reply": "2022-06-16T04:50:17.173973Z"
    },
    "papermill": {
     "duration": 0.028121,
     "end_time": "2022-06-16T04:50:17.177357",
     "exception": false,
     "start_time": "2022-06-16T04:50:17.149236",
     "status": "completed"
    },
    "tags": []
   },
   "outputs": [],
   "source": [
    "# plt.figure(figsize = (15, 6))\n",
    "# librosa.display.waveshow(y = y, sr = sr, color = \"#00008B\");\n",
    "# plt.title(\"Example Sound Waves on {}\".format(path.split(\"/\")[5]), fontsize = 23);"
   ]
  },
  {
   "cell_type": "code",
   "execution_count": 28,
   "id": "e947cfbf",
   "metadata": {
    "execution": {
     "iopub.execute_input": "2022-06-16T04:50:17.221037Z",
     "iopub.status.busy": "2022-06-16T04:50:17.220096Z",
     "iopub.status.idle": "2022-06-16T04:50:17.225088Z",
     "shell.execute_reply": "2022-06-16T04:50:17.223977Z"
    },
    "papermill": {
     "duration": 0.029413,
     "end_time": "2022-06-16T04:50:17.227411",
     "exception": false,
     "start_time": "2022-06-16T04:50:17.197998",
     "status": "completed"
    },
    "tags": []
   },
   "outputs": [],
   "source": [
    "# ipd.Audio(data=y, rate=sr)"
   ]
  },
  {
   "cell_type": "markdown",
   "id": "d5ae6cae",
   "metadata": {
    "papermill": {
     "duration": 0.02022,
     "end_time": "2022-06-16T04:50:17.268117",
     "exception": false,
     "start_time": "2022-06-16T04:50:17.247897",
     "status": "completed"
    },
    "tags": []
   },
   "source": [
    "## Chuyển file .mp3 sang .wav"
   ]
  },
  {
   "cell_type": "code",
   "execution_count": 29,
   "id": "8781a9a6",
   "metadata": {
    "execution": {
     "iopub.execute_input": "2022-06-16T04:50:17.312193Z",
     "iopub.status.busy": "2022-06-16T04:50:17.311539Z",
     "iopub.status.idle": "2022-06-16T04:50:17.316914Z",
     "shell.execute_reply": "2022-06-16T04:50:17.315815Z"
    },
    "papermill": {
     "duration": 0.030352,
     "end_time": "2022-06-16T04:50:17.319498",
     "exception": false,
     "start_time": "2022-06-16T04:50:17.289146",
     "status": "completed"
    },
    "tags": []
   },
   "outputs": [],
   "source": [
    "# import subprocess\n",
    "# import timeit\n",
    "# def convert_to_wav(dict_list_audio):\n",
    "#     start = timeit.default_timer()\n",
    "#     for index, audio in enumerate(dict_list_audio.items()):\n",
    "#         path_audio = os.path.join(dir_path,audio[0].split(\"/\")[0],audio[0])\n",
    "#         wav_file = audio[0].replace(\"mp3\", \"wav\")\n",
    "#         new_path_audio = os.path.join(\"./cv-valid-train-2\", wav_file.split(\"/\")[1])\n",
    "#         # convert all file to wav, mono, sample rate 8000\n",
    "#         subprocess.call(['ffmpeg', '-loglevel', 'panic', '-i',  path_audio, \n",
    "#                 '-acodec', 'pcm_s16le', '-ac', '1', '-ar', \"22050\", new_path_audio])\n",
    "#         if (index+1)%1000 == 0 or index == len(dict_list_audio)-1:\n",
    "#             stop = timeit.default_timer()\n",
    "#             print('{}/{}: {}, time: {}'.format(index+1, len(dict_list_audio), new_path_audio, stop-start))\n",
    "#             start = timeit.default_timer()"
   ]
  },
  {
   "cell_type": "code",
   "execution_count": 30,
   "id": "071c1411",
   "metadata": {
    "execution": {
     "iopub.execute_input": "2022-06-16T04:50:17.362155Z",
     "iopub.status.busy": "2022-06-16T04:50:17.361684Z",
     "iopub.status.idle": "2022-06-16T04:50:17.367361Z",
     "shell.execute_reply": "2022-06-16T04:50:17.365976Z"
    },
    "papermill": {
     "duration": 0.029962,
     "end_time": "2022-06-16T04:50:17.369796",
     "exception": false,
     "start_time": "2022-06-16T04:50:17.339834",
     "status": "completed"
    },
    "tags": []
   },
   "outputs": [],
   "source": [
    "# convert_to_wav(dict_audio)"
   ]
  },
  {
   "cell_type": "markdown",
   "id": "9e9582d1",
   "metadata": {
    "papermill": {
     "duration": 0.019857,
     "end_time": "2022-06-16T04:50:17.410223",
     "exception": false,
     "start_time": "2022-06-16T04:50:17.390366",
     "status": "completed"
    },
    "tags": []
   },
   "source": [
    "Sau khoảng 2 tiếng đã convert được 41.4k/74k file :)\n"
   ]
  },
  {
   "cell_type": "markdown",
   "id": "d707eb5d",
   "metadata": {
    "papermill": {
     "duration": 0.019901,
     "end_time": "2022-06-16T04:50:17.450458",
     "exception": false,
     "start_time": "2022-06-16T04:50:17.430557",
     "status": "completed"
    },
    "tags": []
   },
   "source": [
    "# Tạo dataset "
   ]
  },
  {
   "cell_type": "markdown",
   "id": "d2253795",
   "metadata": {
    "papermill": {
     "duration": 0.019871,
     "end_time": "2022-06-16T04:50:17.491439",
     "exception": false,
     "start_time": "2022-06-16T04:50:17.471568",
     "status": "completed"
    },
    "tags": []
   },
   "source": [
    "### Trích xuất đặc trưng  "
   ]
  },
  {
   "cell_type": "code",
   "execution_count": 31,
   "id": "c3ebb883",
   "metadata": {
    "execution": {
     "iopub.execute_input": "2022-06-16T04:50:17.533748Z",
     "iopub.status.busy": "2022-06-16T04:50:17.533310Z",
     "iopub.status.idle": "2022-06-16T04:50:18.496692Z",
     "shell.execute_reply": "2022-06-16T04:50:18.495292Z"
    },
    "papermill": {
     "duration": 0.988454,
     "end_time": "2022-06-16T04:50:18.500212",
     "exception": false,
     "start_time": "2022-06-16T04:50:17.511758",
     "status": "completed"
    },
    "tags": []
   },
   "outputs": [
    {
     "name": "stdout",
     "output_type": "stream",
     "text": [
      "41359\n",
      "sample-108475.wav\n"
     ]
    }
   ],
   "source": [
    "import os \n",
    "PATH = \"../input/convert-cv-valid-2-wav\"\n",
    "list_file_audio = os.listdir(PATH)\n",
    "print(len(list_file_audio))\n",
    "print(list_file_audio[41358])"
   ]
  },
  {
   "cell_type": "code",
   "execution_count": 32,
   "id": "6d0886c7",
   "metadata": {
    "execution": {
     "iopub.execute_input": "2022-06-16T04:50:18.543179Z",
     "iopub.status.busy": "2022-06-16T04:50:18.542166Z",
     "iopub.status.idle": "2022-06-16T04:50:18.566324Z",
     "shell.execute_reply": "2022-06-16T04:50:18.565170Z"
    },
    "papermill": {
     "duration": 0.049288,
     "end_time": "2022-06-16T04:50:18.569912",
     "exception": false,
     "start_time": "2022-06-16T04:50:18.520624",
     "status": "completed"
    },
    "tags": []
   },
   "outputs": [
    {
     "name": "stdout",
     "output_type": "stream",
     "text": [
      "[0. 0. 0. ... 0. 0. 0.]\n",
      "Length of y: 128596\n",
      "y shape: (128596,)\n",
      "Sample rate: 22050 KHz\n",
      "Duration 5.832018140589569\n"
     ]
    }
   ],
   "source": [
    "path_wav_test = \"../input/convert-cv-valid-2-wav/sample-000005.wav\"\n",
    "y, sr = librosa.load(path_wav_test)\n",
    "print(y)\n",
    "print('Length of y:', len(y))\n",
    "print('y shape:', np.shape(y))\n",
    "print('Sample rate:', sr, 'KHz')\n",
    "print('Duration',librosa.get_duration(y=y, sr=sr))"
   ]
  },
  {
   "cell_type": "markdown",
   "id": "d7f703a3",
   "metadata": {
    "papermill": {
     "duration": 0.020142,
     "end_time": "2022-06-16T04:50:18.611844",
     "exception": false,
     "start_time": "2022-06-16T04:50:18.591702",
     "status": "completed"
    },
    "tags": []
   },
   "source": [
    ":)) thông số giống với .mp3. Oki ổn"
   ]
  },
  {
   "cell_type": "markdown",
   "id": "7a651d8f",
   "metadata": {
    "papermill": {
     "duration": 0.020475,
     "end_time": "2022-06-16T04:50:18.652642",
     "exception": false,
     "start_time": "2022-06-16T04:50:18.632167",
     "status": "completed"
    },
    "tags": []
   },
   "source": [
    "Giờ tạo lại dict đã\n"
   ]
  },
  {
   "cell_type": "code",
   "execution_count": 33,
   "id": "a39e82ef",
   "metadata": {
    "execution": {
     "iopub.execute_input": "2022-06-16T04:50:18.695384Z",
     "iopub.status.busy": "2022-06-16T04:50:18.694524Z",
     "iopub.status.idle": "2022-06-16T04:50:18.700440Z",
     "shell.execute_reply": "2022-06-16T04:50:18.698968Z"
    },
    "papermill": {
     "duration": 0.029953,
     "end_time": "2022-06-16T04:50:18.702630",
     "exception": false,
     "start_time": "2022-06-16T04:50:18.672677",
     "status": "completed"
    },
    "tags": []
   },
   "outputs": [],
   "source": [
    "# dict_audio_mp3 = dict_audio\n",
    "# dict_audio_wav = {}\n",
    "\n",
    "# for audio in dict_audio_mp3.items():\n",
    "#     old_path = audio[0].split(\"/\")[1]\n",
    "#     old_path = old_path.replace(\"mp3\",\"wav\")\n",
    "#     if old_path in list_file_audio:\n",
    "#         new_path = os.path.join(PATH, old_path)\n",
    "#         dict_audio_wav[new_path] = audio[1]\n",
    "#     else:\n",
    "#         continue\n",
    "# print(\"Convert to new dict done!!: {} files\".format(len(dict_audio_wav)))"
   ]
  },
  {
   "cell_type": "code",
   "execution_count": 34,
   "id": "ab0d7e3b",
   "metadata": {
    "execution": {
     "iopub.execute_input": "2022-06-16T04:50:18.745388Z",
     "iopub.status.busy": "2022-06-16T04:50:18.744983Z",
     "iopub.status.idle": "2022-06-16T04:50:18.752093Z",
     "shell.execute_reply": "2022-06-16T04:50:18.750953Z"
    },
    "papermill": {
     "duration": 0.031434,
     "end_time": "2022-06-16T04:50:18.754268",
     "exception": false,
     "start_time": "2022-06-16T04:50:18.722834",
     "status": "completed"
    },
    "tags": []
   },
   "outputs": [],
   "source": [
    "def extract_melspectrogram(file_path, sr=22050, n_fft=2048, hop_length=512, n_mels=128, fmin=20, fmax=8300, top_db=80):\n",
    "    wav,sr = librosa.load(file_path, sr= 22050)\n",
    "    spec=librosa.feature.melspectrogram(y=wav, sr=sr)\n",
    "    spec_db=librosa.power_to_db(spec,top_db=top_db,ref=np.max)\n",
    "    return wav, spec, spec_db"
   ]
  },
  {
   "cell_type": "code",
   "execution_count": 35,
   "id": "1a8dc620",
   "metadata": {
    "execution": {
     "iopub.execute_input": "2022-06-16T04:50:18.796626Z",
     "iopub.status.busy": "2022-06-16T04:50:18.795608Z",
     "iopub.status.idle": "2022-06-16T04:50:18.800700Z",
     "shell.execute_reply": "2022-06-16T04:50:18.799616Z"
    },
    "papermill": {
     "duration": 0.028658,
     "end_time": "2022-06-16T04:50:18.802982",
     "exception": false,
     "start_time": "2022-06-16T04:50:18.774324",
     "status": "completed"
    },
    "tags": []
   },
   "outputs": [],
   "source": [
    "NEW_DIR_PATH = \"../input/convert-cv-valid-2-wav\"\n"
   ]
  },
  {
   "cell_type": "code",
   "execution_count": 36,
   "id": "781098f6",
   "metadata": {
    "execution": {
     "iopub.execute_input": "2022-06-16T04:50:18.845453Z",
     "iopub.status.busy": "2022-06-16T04:50:18.845036Z",
     "iopub.status.idle": "2022-06-16T04:50:18.856391Z",
     "shell.execute_reply": "2022-06-16T04:50:18.855319Z"
    },
    "papermill": {
     "duration": 0.034994,
     "end_time": "2022-06-16T04:50:18.858660",
     "exception": false,
     "start_time": "2022-06-16T04:50:18.823666",
     "status": "completed"
    },
    "tags": []
   },
   "outputs": [],
   "source": [
    "def extract_features(dict_list_audio):\n",
    "    values = []\n",
    "    specs = []\n",
    "    x = []\n",
    "    count_male = 0\n",
    "    count_female = 0\n",
    "    for index, audio in enumerate(dict_list_audio.items()):\n",
    "        \n",
    "#         if(audio[1]==\"1\"):\n",
    "#             count_male+=1\n",
    "#         else:\n",
    "#             count_female+=1\n",
    "            \n",
    "#         if count_male>5000 and count_female>5000:\n",
    "#             break\n",
    "#         if count_male>5000 and audio[1]==\"1\":\n",
    "#             continue\n",
    "#         else count_female>5000 and audio[1]==\"1\":\n",
    "#             continue\n",
    "            \n",
    "        path_audio = os.path.join(NEW_DIR_PATH, audio[0].split(\"/\")[3])\n",
    "        wav, spec, spec_db = extract_melspectrogram(path_audio)\n",
    "        eps = 1e-6\n",
    "#         print(type(spec))\n",
    "#         print(spec)\n",
    "        spec = np.log(spec+ eps)\n",
    "        spec = np.asarray(torchvision.transforms.Resize((128, 1000))(Image.fromarray(spec)))\n",
    "#         x.append(spec)\n",
    "#         x.append(spec)\n",
    "#         x.append(spec)\n",
    "#         print(type(spec))\n",
    "#         print(type(x))\n",
    "#         print(x)\n",
    "#         print(np.array(x))\n",
    "#         print(np.array(spec))\n",
    "        new_entry = {}\n",
    "        new_entry[\"values\"] = np.array(spec)\n",
    "        new_entry[\"target\"] = audio[1]\n",
    "        specs.append(new_entry)\n",
    "        \n",
    "        if (index+1)%100 ==0:\n",
    "            print(\"{}/{}: {}\".format(index, len(dict_list_audio), audio))\n",
    "    return specs"
   ]
  },
  {
   "cell_type": "markdown",
   "id": "aec2c93c",
   "metadata": {
    "papermill": {
     "duration": 0.020374,
     "end_time": "2022-06-16T04:50:18.899641",
     "exception": false,
     "start_time": "2022-06-16T04:50:18.879267",
     "status": "completed"
    },
    "tags": []
   },
   "source": [
    "### Trích xuất đặc trưng đến file pkl."
   ]
  },
  {
   "cell_type": "markdown",
   "id": "e4fe3aa5",
   "metadata": {
    "papermill": {
     "duration": 0.019928,
     "end_time": "2022-06-16T04:50:18.940435",
     "exception": false,
     "start_time": "2022-06-16T04:50:18.920507",
     "status": "completed"
    },
    "tags": []
   },
   "source": [
    ":)) Đã done nên ignore code 2 cell này"
   ]
  },
  {
   "cell_type": "code",
   "execution_count": 37,
   "id": "159e0ed3",
   "metadata": {
    "execution": {
     "iopub.execute_input": "2022-06-16T04:50:18.983108Z",
     "iopub.status.busy": "2022-06-16T04:50:18.982655Z",
     "iopub.status.idle": "2022-06-16T04:50:18.987225Z",
     "shell.execute_reply": "2022-06-16T04:50:18.986179Z"
    },
    "papermill": {
     "duration": 0.029257,
     "end_time": "2022-06-16T04:50:18.989689",
     "exception": false,
     "start_time": "2022-06-16T04:50:18.960432",
     "status": "completed"
    },
    "tags": []
   },
   "outputs": [],
   "source": [
    "# training_values = extract_features(dict_audio_wav)\n"
   ]
  },
  {
   "cell_type": "code",
   "execution_count": 38,
   "id": "0e6a0e49",
   "metadata": {
    "execution": {
     "iopub.execute_input": "2022-06-16T04:50:19.032682Z",
     "iopub.status.busy": "2022-06-16T04:50:19.032060Z",
     "iopub.status.idle": "2022-06-16T04:50:19.036854Z",
     "shell.execute_reply": "2022-06-16T04:50:19.035804Z"
    },
    "papermill": {
     "duration": 0.028738,
     "end_time": "2022-06-16T04:50:19.039102",
     "exception": false,
     "start_time": "2022-06-16T04:50:19.010364",
     "status": "completed"
    },
    "tags": []
   },
   "outputs": [],
   "source": [
    "# print(\"Start export to pkl\")\n",
    "# import pickle as pkl \n",
    "# with open(\"./trainingMel1.pkl\",\"wb\") as handler:\n",
    "#     pkl.dump(training_values, handler, protocol=pkl.HIGHEST_PROTOCOL)\n",
    "# print(\"Save pkl done\")"
   ]
  },
  {
   "cell_type": "markdown",
   "id": "72383b9a",
   "metadata": {
    "papermill": {
     "duration": 0.020594,
     "end_time": "2022-06-16T04:50:19.080681",
     "exception": false,
     "start_time": "2022-06-16T04:50:19.060087",
     "status": "completed"
    },
    "tags": []
   },
   "source": [
    "# Tạo dataset với pytorch "
   ]
  },
  {
   "cell_type": "code",
   "execution_count": 39,
   "id": "40e44b4b",
   "metadata": {
    "execution": {
     "iopub.execute_input": "2022-06-16T04:50:19.122739Z",
     "iopub.status.busy": "2022-06-16T04:50:19.122330Z",
     "iopub.status.idle": "2022-06-16T04:50:19.143347Z",
     "shell.execute_reply": "2022-06-16T04:50:19.142288Z"
    },
    "papermill": {
     "duration": 0.044954,
     "end_time": "2022-06-16T04:50:19.145783",
     "exception": false,
     "start_time": "2022-06-16T04:50:19.100829",
     "status": "completed"
    },
    "tags": []
   },
   "outputs": [],
   "source": [
    "from torch.utils.data import *\n",
    "import lmdb\n",
    "import torchvision\n",
    "import pandas as pd\n",
    "import numpy as np\n",
    "import pickle\n",
    "import torch\n",
    "from PIL import Image\n",
    "\n",
    "\n",
    "class AudioDataset(Dataset):\n",
    "    def __init__(self, pkl_dir, dataset_name, transforms=None):\n",
    "        self.data = []\n",
    "        self.length = 1000\n",
    "        self.transforms = transforms\n",
    "        with open(pkl_dir, \"rb\") as f:\n",
    "            self.data = pickle.load(f)\n",
    "            \n",
    "    def __len__(self):\n",
    "        return len(self.data)\n",
    "    \n",
    "    def __getitem__(self, idx):\n",
    "        entry = self.data[idx]\n",
    "        output_data = {}\n",
    "        list_abc = []\n",
    "        list_abc.append(entry[\"values\"])\n",
    "        list_abc.append(entry[\"values\"])\n",
    "        list_abc.append(entry[\"values\"])\n",
    "        \n",
    "        values = np.array(list_abc).reshape(-1, 128, self.length)\n",
    "        values = torch.Tensor(values)\n",
    "        if self.transforms:\n",
    "            values = self.transforms(values)\n",
    "        target = torch.LongTensor([entry[\"target\"]])\n",
    "        return (values, target)\n",
    "\n",
    "def fetch_dataloader(pkl_dir, dataset_name, batch_size, num_workers):\n",
    "    dataset = AudioDataset(pkl_dir, dataset_name)\n",
    "    dataloader = DataLoader(dataset, shuffle=True, batch_size=batch_size, num_workers=num_workers)\n",
    "    return dataloader"
   ]
  },
  {
   "cell_type": "code",
   "execution_count": 40,
   "id": "e6df72f0",
   "metadata": {
    "execution": {
     "iopub.execute_input": "2022-06-16T04:50:19.188084Z",
     "iopub.status.busy": "2022-06-16T04:50:19.187633Z",
     "iopub.status.idle": "2022-06-16T04:50:19.192256Z",
     "shell.execute_reply": "2022-06-16T04:50:19.191209Z"
    },
    "papermill": {
     "duration": 0.028348,
     "end_time": "2022-06-16T04:50:19.194510",
     "exception": false,
     "start_time": "2022-06-16T04:50:19.166162",
     "status": "completed"
    },
    "tags": []
   },
   "outputs": [],
   "source": [
    "# fetch_dataloader(\"./trainingMel1.pkl\", \"audio_dataset\", 128,2)"
   ]
  },
  {
   "cell_type": "markdown",
   "id": "49a087a1",
   "metadata": {
    "papermill": {
     "duration": 0.020517,
     "end_time": "2022-06-16T04:50:19.235820",
     "exception": false,
     "start_time": "2022-06-16T04:50:19.215303",
     "status": "completed"
    },
    "tags": []
   },
   "source": [
    "# :) Train với pytorch"
   ]
  },
  {
   "cell_type": "code",
   "execution_count": 41,
   "id": "014d8bda",
   "metadata": {
    "execution": {
     "iopub.execute_input": "2022-06-16T04:50:19.278090Z",
     "iopub.status.busy": "2022-06-16T04:50:19.277618Z",
     "iopub.status.idle": "2022-06-16T04:50:19.454804Z",
     "shell.execute_reply": "2022-06-16T04:50:19.453621Z"
    },
    "papermill": {
     "duration": 0.201777,
     "end_time": "2022-06-16T04:50:19.457881",
     "exception": false,
     "start_time": "2022-06-16T04:50:19.256104",
     "status": "completed"
    },
    "tags": []
   },
   "outputs": [],
   "source": [
    "import torch\n",
    "import torchvision\n",
    "import torch.nn as nn\n",
    "import numpy as np\n",
    "import json\n",
    "import argparse\n",
    "import time\n",
    "\n",
    "from tqdm import tqdm\n",
    "from tensorboardX import SummaryWriter\n",
    "\n",
    "device = torch.device(\"cuda:0\" if torch.cuda.is_available() else \"cpu\")\n"
   ]
  },
  {
   "cell_type": "code",
   "execution_count": 42,
   "id": "79df6bd5",
   "metadata": {
    "execution": {
     "iopub.execute_input": "2022-06-16T04:50:19.502104Z",
     "iopub.status.busy": "2022-06-16T04:50:19.501090Z",
     "iopub.status.idle": "2022-06-16T04:50:19.509267Z",
     "shell.execute_reply": "2022-06-16T04:50:19.508177Z"
    },
    "papermill": {
     "duration": 0.032482,
     "end_time": "2022-06-16T04:50:19.511484",
     "exception": false,
     "start_time": "2022-06-16T04:50:19.479002",
     "status": "completed"
    },
    "tags": []
   },
   "outputs": [],
   "source": [
    "def evaluate(model, device, test_loader):\n",
    "    correct = 0\n",
    "    total = 0\n",
    "    model.eval()\n",
    "    with torch.no_grad():\n",
    "        for batch_idx, data in enumerate(test_loader):\n",
    "            inputs = data[0].to(device)\n",
    "            target = data[1].squeeze(1).to(device)\n",
    "\n",
    "            outputs = model(inputs)\n",
    "\n",
    "            _, predicted = torch.max(outputs.data, 1)\n",
    "            total += target.size(0)\n",
    "            correct += (predicted == target).sum().item()\n",
    "\n",
    "    return (100*correct/total)\n"
   ]
  },
  {
   "cell_type": "code",
   "execution_count": 43,
   "id": "a6d2d8a7",
   "metadata": {
    "execution": {
     "iopub.execute_input": "2022-06-16T04:50:19.555465Z",
     "iopub.status.busy": "2022-06-16T04:50:19.554981Z",
     "iopub.status.idle": "2022-06-16T04:50:19.563054Z",
     "shell.execute_reply": "2022-06-16T04:50:19.561979Z"
    },
    "papermill": {
     "duration": 0.032745,
     "end_time": "2022-06-16T04:50:19.565425",
     "exception": false,
     "start_time": "2022-06-16T04:50:19.532680",
     "status": "completed"
    },
    "tags": []
   },
   "outputs": [],
   "source": [
    "# Resnet18\n",
    "class ResNet(nn.Module):\n",
    "    def __init__(self, dataset, pretrained=True):\n",
    "        super(ResNet, self).__init__()\n",
    "        num_classes = 2\n",
    "        self.model = models.resnet18(pretrained=pretrained)\n",
    "        num_ftrs = self.model.fc.in_features\n",
    "        self.model.fc = nn.Linear(num_ftrs, num_classes)\n",
    "\n",
    "    def forward(self, x):\n",
    "        output = self.model(x)\n",
    "        return output"
   ]
  },
  {
   "cell_type": "code",
   "execution_count": 44,
   "id": "4ecef070",
   "metadata": {
    "execution": {
     "iopub.execute_input": "2022-06-16T04:50:19.610420Z",
     "iopub.status.busy": "2022-06-16T04:50:19.609951Z",
     "iopub.status.idle": "2022-06-16T04:50:19.617536Z",
     "shell.execute_reply": "2022-06-16T04:50:19.616169Z"
    },
    "papermill": {
     "duration": 0.033461,
     "end_time": "2022-06-16T04:50:19.620208",
     "exception": false,
     "start_time": "2022-06-16T04:50:19.586747",
     "status": "completed"
    },
    "tags": []
   },
   "outputs": [],
   "source": [
    "import shutil\n",
    "def save_checkpoint(state, is_best, split, checkpoint = \"./model_checkpoint\"):\n",
    "    filename = os.path.join(checkpoint, 'last{}.pth.tar'.format(split))\n",
    "    if not os.path.exists(checkpoint):\n",
    "        print(\"Checkpoint Directory does not exist\")\n",
    "        os.mkdir(checkpoint)\n",
    "    torch.save(state, filename)\n",
    "    if is_best:\n",
    "        shutil.copyfile(filename, os.path.join(checkpoint, \"model_best_{}.pth.tar\".format(split)))"
   ]
  },
  {
   "cell_type": "code",
   "execution_count": 45,
   "id": "8cc71748",
   "metadata": {
    "execution": {
     "iopub.execute_input": "2022-06-16T04:50:19.662778Z",
     "iopub.status.busy": "2022-06-16T04:50:19.662033Z",
     "iopub.status.idle": "2022-06-16T04:51:03.984672Z",
     "shell.execute_reply": "2022-06-16T04:51:03.983387Z"
    },
    "papermill": {
     "duration": 44.346992,
     "end_time": "2022-06-16T04:51:03.987751",
     "exception": false,
     "start_time": "2022-06-16T04:50:19.640759",
     "status": "completed"
    },
    "tags": []
   },
   "outputs": [],
   "source": [
    "train_dataloader = fetch_dataloader(\"../input/training-features-cv-valid/trainingMel1.pkl\", \"audio_dataset\", 64, 2)\n",
    "val_dataloader = fetch_dataloader(\"../input/convert-data-in-dev-cv/trainingMel1Dev.pkl\", \"audio_dataset_valid\", 64, 2)\n"
   ]
  },
  {
   "cell_type": "code",
   "execution_count": 46,
   "id": "5ff3f77f",
   "metadata": {
    "execution": {
     "iopub.execute_input": "2022-06-16T04:51:04.030454Z",
     "iopub.status.busy": "2022-06-16T04:51:04.030047Z",
     "iopub.status.idle": "2022-06-16T04:51:04.036021Z",
     "shell.execute_reply": "2022-06-16T04:51:04.034846Z"
    },
    "papermill": {
     "duration": 0.030501,
     "end_time": "2022-06-16T04:51:04.039106",
     "exception": false,
     "start_time": "2022-06-16T04:51:04.008605",
     "status": "completed"
    },
    "tags": []
   },
   "outputs": [
    {
     "name": "stdout",
     "output_type": "stream",
     "text": [
      "25\n"
     ]
    }
   ],
   "source": [
    "print(len(val_dataloader))"
   ]
  },
  {
   "cell_type": "code",
   "execution_count": 47,
   "id": "fcdf6aa6",
   "metadata": {
    "execution": {
     "iopub.execute_input": "2022-06-16T04:51:04.084061Z",
     "iopub.status.busy": "2022-06-16T04:51:04.083430Z",
     "iopub.status.idle": "2022-06-16T04:51:04.088919Z",
     "shell.execute_reply": "2022-06-16T04:51:04.087668Z"
    },
    "papermill": {
     "duration": 0.030101,
     "end_time": "2022-06-16T04:51:04.091564",
     "exception": false,
     "start_time": "2022-06-16T04:51:04.061463",
     "status": "completed"
    },
    "tags": []
   },
   "outputs": [],
   "source": [
    "# dataIter = iter(train_dataloader)\n",
    "# images, labels = dataIter.next()"
   ]
  },
  {
   "cell_type": "code",
   "execution_count": 48,
   "id": "c522d769",
   "metadata": {
    "execution": {
     "iopub.execute_input": "2022-06-16T04:51:04.133350Z",
     "iopub.status.busy": "2022-06-16T04:51:04.132896Z",
     "iopub.status.idle": "2022-06-16T04:51:08.598059Z",
     "shell.execute_reply": "2022-06-16T04:51:08.596962Z"
    },
    "papermill": {
     "duration": 4.489083,
     "end_time": "2022-06-16T04:51:08.600644",
     "exception": false,
     "start_time": "2022-06-16T04:51:04.111561",
     "status": "completed"
    },
    "tags": []
   },
   "outputs": [
    {
     "name": "stderr",
     "output_type": "stream",
     "text": [
      "Downloading: \"https://download.pytorch.org/models/resnet18-f37072fd.pth\" to /root/.cache/torch/hub/checkpoints/resnet18-f37072fd.pth\n"
     ]
    },
    {
     "data": {
      "application/vnd.jupyter.widget-view+json": {
       "model_id": "e12a5482427a47c8bef46c82f4aae32b",
       "version_major": 2,
       "version_minor": 0
      },
      "text/plain": [
       "  0%|          | 0.00/44.7M [00:00<?, ?B/s]"
      ]
     },
     "metadata": {},
     "output_type": "display_data"
    }
   ],
   "source": [
    "model = ResNet(\"audio_dataset\").to(device)\n",
    "loss_function = nn.CrossEntropyLoss()\n",
    "optimizer = torch.optim.Adam(model.parameters(), lr=0.0001, weight_decay=0.001)\n",
    "\n"
   ]
  },
  {
   "cell_type": "code",
   "execution_count": 49,
   "id": "f82bb8b3",
   "metadata": {
    "execution": {
     "iopub.execute_input": "2022-06-16T04:51:08.643468Z",
     "iopub.status.busy": "2022-06-16T04:51:08.643067Z",
     "iopub.status.idle": "2022-06-16T05:06:57.147766Z",
     "shell.execute_reply": "2022-06-16T05:06:57.145006Z"
    },
    "papermill": {
     "duration": 948.532073,
     "end_time": "2022-06-16T05:06:57.153279",
     "exception": false,
     "start_time": "2022-06-16T04:51:08.621206",
     "status": "completed"
    },
    "tags": []
   },
   "outputs": [
    {
     "name": "stderr",
     "output_type": "stream",
     "text": [
      "100%|██████████| 157/157 [01:35<00:00,  2.27it/s, loss=0.177]"
     ]
    },
    {
     "name": "stdout",
     "output_type": "stream",
     "text": [
      "Checkpoint Directory does not exist\n"
     ]
    },
    {
     "name": "stderr",
     "output_type": "stream",
     "text": [
      "100%|██████████| 157/157 [01:40<00:00,  1.56it/s, loss=0.177]\n"
     ]
    },
    {
     "name": "stdout",
     "output_type": "stream",
     "text": [
      "0/10 epochs: loss:0.1769964323634175, valid acc:95.0\n"
     ]
    },
    {
     "name": "stderr",
     "output_type": "stream",
     "text": [
      "100%|██████████| 157/157 [01:34<00:00,  1.67it/s, loss=0.067]\n"
     ]
    },
    {
     "name": "stdout",
     "output_type": "stream",
     "text": [
      "1/10 epochs: loss:0.06683843213898741, valid acc:95.0\n"
     ]
    },
    {
     "name": "stderr",
     "output_type": "stream",
     "text": [
      "100%|██████████| 157/157 [01:34<00:00,  1.66it/s, loss=0.035]\n"
     ]
    },
    {
     "name": "stdout",
     "output_type": "stream",
     "text": [
      "2/10 epochs: loss:0.03537809706862518, valid acc:94.35064935064935\n"
     ]
    },
    {
     "name": "stderr",
     "output_type": "stream",
     "text": [
      "100%|██████████| 157/157 [01:33<00:00,  1.67it/s, loss=0.014]\n"
     ]
    },
    {
     "name": "stdout",
     "output_type": "stream",
     "text": [
      "3/10 epochs: loss:0.01414091563205217, valid acc:96.23376623376623\n"
     ]
    },
    {
     "name": "stderr",
     "output_type": "stream",
     "text": [
      "100%|██████████| 157/157 [01:34<00:00,  1.66it/s, loss=0.017]\n"
     ]
    },
    {
     "name": "stdout",
     "output_type": "stream",
     "text": [
      "4/10 epochs: loss:0.017247624323624748, valid acc:94.28571428571429\n"
     ]
    },
    {
     "name": "stderr",
     "output_type": "stream",
     "text": [
      "100%|██████████| 157/157 [01:34<00:00,  1.67it/s, loss=0.009]\n"
     ]
    },
    {
     "name": "stdout",
     "output_type": "stream",
     "text": [
      "5/10 epochs: loss:0.008990672462216466, valid acc:95.25974025974025\n"
     ]
    },
    {
     "name": "stderr",
     "output_type": "stream",
     "text": [
      "100%|██████████| 157/157 [01:34<00:00,  1.67it/s, loss=0.004]\n"
     ]
    },
    {
     "name": "stdout",
     "output_type": "stream",
     "text": [
      "6/10 epochs: loss:0.0044900193561319334, valid acc:96.1038961038961\n"
     ]
    },
    {
     "name": "stderr",
     "output_type": "stream",
     "text": [
      "100%|██████████| 157/157 [01:33<00:00,  1.67it/s, loss=0.005]\n"
     ]
    },
    {
     "name": "stdout",
     "output_type": "stream",
     "text": [
      "7/10 epochs: loss:0.004933702446902942, valid acc:96.75324675324676\n"
     ]
    },
    {
     "name": "stderr",
     "output_type": "stream",
     "text": [
      "100%|██████████| 157/157 [01:34<00:00,  1.67it/s, loss=0.048]\n"
     ]
    },
    {
     "name": "stdout",
     "output_type": "stream",
     "text": [
      "8/10 epochs: loss:0.04779210278507067, valid acc:95.25974025974025\n"
     ]
    },
    {
     "name": "stderr",
     "output_type": "stream",
     "text": [
      "100%|██████████| 157/157 [01:34<00:00,  1.67it/s, loss=0.021]"
     ]
    },
    {
     "name": "stdout",
     "output_type": "stream",
     "text": [
      "9/10 epochs: loss:0.021489190446749733, valid acc:95.58441558441558\n"
     ]
    },
    {
     "name": "stderr",
     "output_type": "stream",
     "text": [
      "\n"
     ]
    }
   ],
   "source": [
    "for epoch in range(10):\n",
    "    model.train()\n",
    "    avg_loss  =  0\n",
    "    best =0.0\n",
    "    with tqdm(total = len(train_dataloader)) as t:\n",
    "        sum_loss = 0\n",
    "        for batch_index, data in enumerate(train_dataloader):\n",
    "            inputs = data[0].to(device)\n",
    "            target = data[1].squeeze(1).to(device)\n",
    "            outputs = model(inputs)\n",
    "            loss = loss_function(outputs, target)\n",
    "            optimizer.zero_grad()\n",
    "            loss.backward()\n",
    "            optimizer.step()\n",
    "            sum_loss += loss.item()\n",
    "            avg_loss = sum_loss/((batch_index+1)*1.0)\n",
    "            t.set_postfix(loss='{:05.3f}'.format(avg_loss))\n",
    "            t.update()\n",
    "        acc = evaluate(model, device, val_dataloader)\n",
    "        is_best = True if best < acc else False\n",
    "        save_checkpoint(\n",
    "            {\n",
    "                \"epoch\":epoch,\n",
    "                \"model\": model.state_dict,\n",
    "                \"optimizer\": optimizer.state_dict(),\n",
    "            },\n",
    "            is_best,\n",
    "            0\n",
    "        )\n",
    "    print(\"{}/{} epochs: loss:{}, valid acc:{}\".format(epoch, 10, avg_loss,acc))\n"
   ]
  },
  {
   "cell_type": "code",
   "execution_count": null,
   "id": "4d7de72e",
   "metadata": {
    "papermill": {
     "duration": 0.284857,
     "end_time": "2022-06-16T05:06:57.884846",
     "exception": false,
     "start_time": "2022-06-16T05:06:57.599989",
     "status": "completed"
    },
    "tags": []
   },
   "outputs": [],
   "source": []
  }
 ],
 "metadata": {
  "kernelspec": {
   "display_name": "Python 3",
   "language": "python",
   "name": "python3"
  },
  "language_info": {
   "codemirror_mode": {
    "name": "ipython",
    "version": 3
   },
   "file_extension": ".py",
   "mimetype": "text/x-python",
   "name": "python",
   "nbconvert_exporter": "python",
   "pygments_lexer": "ipython3",
   "version": "3.7.12"
  },
  "papermill": {
   "default_parameters": {},
   "duration": 1025.513816,
   "end_time": "2022-06-16T05:07:01.011015",
   "environment_variables": {},
   "exception": null,
   "input_path": "__notebook__.ipynb",
   "output_path": "__notebook__.ipynb",
   "parameters": {},
   "start_time": "2022-06-16T04:49:55.497199",
   "version": "2.3.4"
  },
  "widgets": {
   "application/vnd.jupyter.widget-state+json": {
    "state": {
     "08a8e46aba1147cea3f143c5c401ba28": {
      "model_module": "@jupyter-widgets/base",
      "model_module_version": "1.2.0",
      "model_name": "LayoutModel",
      "state": {
       "_model_module": "@jupyter-widgets/base",
       "_model_module_version": "1.2.0",
       "_model_name": "LayoutModel",
       "_view_count": null,
       "_view_module": "@jupyter-widgets/base",
       "_view_module_version": "1.2.0",
       "_view_name": "LayoutView",
       "align_content": null,
       "align_items": null,
       "align_self": null,
       "border": null,
       "bottom": null,
       "display": null,
       "flex": null,
       "flex_flow": null,
       "grid_area": null,
       "grid_auto_columns": null,
       "grid_auto_flow": null,
       "grid_auto_rows": null,
       "grid_column": null,
       "grid_gap": null,
       "grid_row": null,
       "grid_template_areas": null,
       "grid_template_columns": null,
       "grid_template_rows": null,
       "height": null,
       "justify_content": null,
       "justify_items": null,
       "left": null,
       "margin": null,
       "max_height": null,
       "max_width": null,
       "min_height": null,
       "min_width": null,
       "object_fit": null,
       "object_position": null,
       "order": null,
       "overflow": null,
       "overflow_x": null,
       "overflow_y": null,
       "padding": null,
       "right": null,
       "top": null,
       "visibility": null,
       "width": null
      }
     },
     "2f90bb97d36f4b6bbf1ab081f8d9080c": {
      "model_module": "@jupyter-widgets/controls",
      "model_module_version": "1.5.0",
      "model_name": "FloatProgressModel",
      "state": {
       "_dom_classes": [],
       "_model_module": "@jupyter-widgets/controls",
       "_model_module_version": "1.5.0",
       "_model_name": "FloatProgressModel",
       "_view_count": null,
       "_view_module": "@jupyter-widgets/controls",
       "_view_module_version": "1.5.0",
       "_view_name": "ProgressView",
       "bar_style": "success",
       "description": "",
       "description_tooltip": null,
       "layout": "IPY_MODEL_08a8e46aba1147cea3f143c5c401ba28",
       "max": 46830571.0,
       "min": 0.0,
       "orientation": "horizontal",
       "style": "IPY_MODEL_c2d88a634d15421ba31c734023b190f6",
       "value": 46830571.0
      }
     },
     "34739c40daf749d4bffc219916295c8c": {
      "model_module": "@jupyter-widgets/controls",
      "model_module_version": "1.5.0",
      "model_name": "HTMLModel",
      "state": {
       "_dom_classes": [],
       "_model_module": "@jupyter-widgets/controls",
       "_model_module_version": "1.5.0",
       "_model_name": "HTMLModel",
       "_view_count": null,
       "_view_module": "@jupyter-widgets/controls",
       "_view_module_version": "1.5.0",
       "_view_name": "HTMLView",
       "description": "",
       "description_tooltip": null,
       "layout": "IPY_MODEL_9912cc2ac51043988704cce8adae829c",
       "placeholder": "​",
       "style": "IPY_MODEL_a41f5e7c062a47b88306a17cc6a7fd83",
       "value": "100%"
      }
     },
     "9912cc2ac51043988704cce8adae829c": {
      "model_module": "@jupyter-widgets/base",
      "model_module_version": "1.2.0",
      "model_name": "LayoutModel",
      "state": {
       "_model_module": "@jupyter-widgets/base",
       "_model_module_version": "1.2.0",
       "_model_name": "LayoutModel",
       "_view_count": null,
       "_view_module": "@jupyter-widgets/base",
       "_view_module_version": "1.2.0",
       "_view_name": "LayoutView",
       "align_content": null,
       "align_items": null,
       "align_self": null,
       "border": null,
       "bottom": null,
       "display": null,
       "flex": null,
       "flex_flow": null,
       "grid_area": null,
       "grid_auto_columns": null,
       "grid_auto_flow": null,
       "grid_auto_rows": null,
       "grid_column": null,
       "grid_gap": null,
       "grid_row": null,
       "grid_template_areas": null,
       "grid_template_columns": null,
       "grid_template_rows": null,
       "height": null,
       "justify_content": null,
       "justify_items": null,
       "left": null,
       "margin": null,
       "max_height": null,
       "max_width": null,
       "min_height": null,
       "min_width": null,
       "object_fit": null,
       "object_position": null,
       "order": null,
       "overflow": null,
       "overflow_x": null,
       "overflow_y": null,
       "padding": null,
       "right": null,
       "top": null,
       "visibility": null,
       "width": null
      }
     },
     "a41f5e7c062a47b88306a17cc6a7fd83": {
      "model_module": "@jupyter-widgets/controls",
      "model_module_version": "1.5.0",
      "model_name": "DescriptionStyleModel",
      "state": {
       "_model_module": "@jupyter-widgets/controls",
       "_model_module_version": "1.5.0",
       "_model_name": "DescriptionStyleModel",
       "_view_count": null,
       "_view_module": "@jupyter-widgets/base",
       "_view_module_version": "1.2.0",
       "_view_name": "StyleView",
       "description_width": ""
      }
     },
     "a4ec1a4f4c7a4c99a3ded7fbf08f80e8": {
      "model_module": "@jupyter-widgets/base",
      "model_module_version": "1.2.0",
      "model_name": "LayoutModel",
      "state": {
       "_model_module": "@jupyter-widgets/base",
       "_model_module_version": "1.2.0",
       "_model_name": "LayoutModel",
       "_view_count": null,
       "_view_module": "@jupyter-widgets/base",
       "_view_module_version": "1.2.0",
       "_view_name": "LayoutView",
       "align_content": null,
       "align_items": null,
       "align_self": null,
       "border": null,
       "bottom": null,
       "display": null,
       "flex": null,
       "flex_flow": null,
       "grid_area": null,
       "grid_auto_columns": null,
       "grid_auto_flow": null,
       "grid_auto_rows": null,
       "grid_column": null,
       "grid_gap": null,
       "grid_row": null,
       "grid_template_areas": null,
       "grid_template_columns": null,
       "grid_template_rows": null,
       "height": null,
       "justify_content": null,
       "justify_items": null,
       "left": null,
       "margin": null,
       "max_height": null,
       "max_width": null,
       "min_height": null,
       "min_width": null,
       "object_fit": null,
       "object_position": null,
       "order": null,
       "overflow": null,
       "overflow_x": null,
       "overflow_y": null,
       "padding": null,
       "right": null,
       "top": null,
       "visibility": null,
       "width": null
      }
     },
     "c2d88a634d15421ba31c734023b190f6": {
      "model_module": "@jupyter-widgets/controls",
      "model_module_version": "1.5.0",
      "model_name": "ProgressStyleModel",
      "state": {
       "_model_module": "@jupyter-widgets/controls",
       "_model_module_version": "1.5.0",
       "_model_name": "ProgressStyleModel",
       "_view_count": null,
       "_view_module": "@jupyter-widgets/base",
       "_view_module_version": "1.2.0",
       "_view_name": "StyleView",
       "bar_color": null,
       "description_width": ""
      }
     },
     "e12a5482427a47c8bef46c82f4aae32b": {
      "model_module": "@jupyter-widgets/controls",
      "model_module_version": "1.5.0",
      "model_name": "HBoxModel",
      "state": {
       "_dom_classes": [],
       "_model_module": "@jupyter-widgets/controls",
       "_model_module_version": "1.5.0",
       "_model_name": "HBoxModel",
       "_view_count": null,
       "_view_module": "@jupyter-widgets/controls",
       "_view_module_version": "1.5.0",
       "_view_name": "HBoxView",
       "box_style": "",
       "children": [
        "IPY_MODEL_34739c40daf749d4bffc219916295c8c",
        "IPY_MODEL_2f90bb97d36f4b6bbf1ab081f8d9080c",
        "IPY_MODEL_e8cf5b0d9bec4607a12a47f2e7d7ccb6"
       ],
       "layout": "IPY_MODEL_e180ba41c4e54fd3a08b686303a8b3ac"
      }
     },
     "e180ba41c4e54fd3a08b686303a8b3ac": {
      "model_module": "@jupyter-widgets/base",
      "model_module_version": "1.2.0",
      "model_name": "LayoutModel",
      "state": {
       "_model_module": "@jupyter-widgets/base",
       "_model_module_version": "1.2.0",
       "_model_name": "LayoutModel",
       "_view_count": null,
       "_view_module": "@jupyter-widgets/base",
       "_view_module_version": "1.2.0",
       "_view_name": "LayoutView",
       "align_content": null,
       "align_items": null,
       "align_self": null,
       "border": null,
       "bottom": null,
       "display": null,
       "flex": null,
       "flex_flow": null,
       "grid_area": null,
       "grid_auto_columns": null,
       "grid_auto_flow": null,
       "grid_auto_rows": null,
       "grid_column": null,
       "grid_gap": null,
       "grid_row": null,
       "grid_template_areas": null,
       "grid_template_columns": null,
       "grid_template_rows": null,
       "height": null,
       "justify_content": null,
       "justify_items": null,
       "left": null,
       "margin": null,
       "max_height": null,
       "max_width": null,
       "min_height": null,
       "min_width": null,
       "object_fit": null,
       "object_position": null,
       "order": null,
       "overflow": null,
       "overflow_x": null,
       "overflow_y": null,
       "padding": null,
       "right": null,
       "top": null,
       "visibility": null,
       "width": null
      }
     },
     "e8cf5b0d9bec4607a12a47f2e7d7ccb6": {
      "model_module": "@jupyter-widgets/controls",
      "model_module_version": "1.5.0",
      "model_name": "HTMLModel",
      "state": {
       "_dom_classes": [],
       "_model_module": "@jupyter-widgets/controls",
       "_model_module_version": "1.5.0",
       "_model_name": "HTMLModel",
       "_view_count": null,
       "_view_module": "@jupyter-widgets/controls",
       "_view_module_version": "1.5.0",
       "_view_name": "HTMLView",
       "description": "",
       "description_tooltip": null,
       "layout": "IPY_MODEL_a4ec1a4f4c7a4c99a3ded7fbf08f80e8",
       "placeholder": "​",
       "style": "IPY_MODEL_f7516597469a41d98ca6882f2920f488",
       "value": " 44.7M/44.7M [00:00&lt;00:00, 122MB/s]"
      }
     },
     "f7516597469a41d98ca6882f2920f488": {
      "model_module": "@jupyter-widgets/controls",
      "model_module_version": "1.5.0",
      "model_name": "DescriptionStyleModel",
      "state": {
       "_model_module": "@jupyter-widgets/controls",
       "_model_module_version": "1.5.0",
       "_model_name": "DescriptionStyleModel",
       "_view_count": null,
       "_view_module": "@jupyter-widgets/base",
       "_view_module_version": "1.2.0",
       "_view_name": "StyleView",
       "description_width": ""
      }
     }
    },
    "version_major": 2,
    "version_minor": 0
   }
  }
 },
 "nbformat": 4,
 "nbformat_minor": 5
}
